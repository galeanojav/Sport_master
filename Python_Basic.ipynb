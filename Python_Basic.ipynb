{
 "cells": [
  {
   "cell_type": "markdown",
   "id": "a3a9f869",
   "metadata": {},
   "source": [
    "# Python Basic usando datos deportivos\n",
    "\n",
    "La idea de este cuaderno es recorrer las herramientas básicas de python usando ejemplos relacionados con el deporte."
   ]
  },
  {
   "cell_type": "markdown",
   "id": "d8f20f03",
   "metadata": {},
   "source": [
    "## Numbers"
   ]
  },
  {
   "cell_type": "code",
   "execution_count": 1,
   "id": "799cdfcc",
   "metadata": {},
   "outputs": [
    {
     "data": {
      "text/plain": [
       "3"
      ]
     },
     "execution_count": 1,
     "metadata": {},
     "output_type": "execute_result"
    }
   ],
   "source": [
    "1+2"
   ]
  },
  {
   "cell_type": "code",
   "execution_count": 2,
   "id": "a57559c1",
   "metadata": {},
   "outputs": [
    {
     "data": {
      "text/plain": [
       "-1"
      ]
     },
     "execution_count": 2,
     "metadata": {},
     "output_type": "execute_result"
    }
   ],
   "source": [
    "1-2"
   ]
  },
  {
   "cell_type": "code",
   "execution_count": 3,
   "id": "606bdc95",
   "metadata": {},
   "outputs": [
    {
     "data": {
      "text/plain": [
       "6"
      ]
     },
     "execution_count": 3,
     "metadata": {},
     "output_type": "execute_result"
    }
   ],
   "source": [
    "2*3"
   ]
  },
  {
   "cell_type": "code",
   "execution_count": 4,
   "id": "b5bc0afe",
   "metadata": {},
   "outputs": [
    {
     "data": {
      "text/plain": [
       "81"
      ]
     },
     "execution_count": 4,
     "metadata": {},
     "output_type": "execute_result"
    }
   ],
   "source": [
    "3**4"
   ]
  },
  {
   "cell_type": "code",
   "execution_count": 5,
   "id": "44307077",
   "metadata": {},
   "outputs": [
    {
     "data": {
      "text/plain": [
       "0.8"
      ]
     },
     "execution_count": 5,
     "metadata": {},
     "output_type": "execute_result"
    }
   ],
   "source": [
    "4/5"
   ]
  },
  {
   "cell_type": "code",
   "execution_count": 6,
   "id": "570c9a62",
   "metadata": {},
   "outputs": [
    {
     "data": {
      "text/plain": [
       "0"
      ]
     },
     "execution_count": 6,
     "metadata": {},
     "output_type": "execute_result"
    }
   ],
   "source": [
    "4//5"
   ]
  },
  {
   "cell_type": "code",
   "execution_count": 8,
   "id": "fd77c3f8",
   "metadata": {},
   "outputs": [
    {
     "data": {
      "text/plain": [
       "1"
      ]
     },
     "execution_count": 8,
     "metadata": {},
     "output_type": "execute_result"
    }
   ],
   "source": [
    "5%4"
   ]
  },
  {
   "cell_type": "markdown",
   "id": "f31a81a4",
   "metadata": {},
   "source": [
    "## Definir variables\n",
    "\n",
    "Una de las grandes ventajas de programar es que podemos usar variables que podremos usar en nuestras ecuaciones o en nuestros programas. \n",
    "Por ejemplo podemos guardar los datos de goles y disparos a puerta de los 5 máximos goleadores (Pichichi) de la Liga Santander 22-23 (22_marzo_23)"
   ]
  },
  {
   "cell_type": "code",
   "execution_count": 10,
   "id": "f959d034",
   "metadata": {},
   "outputs": [],
   "source": [
    "Lewandoski_g = 15\n",
    "Unal_g = 13\n",
    "Joselu_g=12\n",
    "Iglesias_g = 12\n",
    "Aspas_g = 12\n"
   ]
  },
  {
   "cell_type": "code",
   "execution_count": 11,
   "id": "2497c0f1",
   "metadata": {},
   "outputs": [],
   "source": [
    "Lewandoski_d = 41\n",
    "Unal_d = 28\n",
    "Joselu_d=23\n",
    "Iglesias_d = 24\n",
    "Aspas_d = 26"
   ]
  },
  {
   "cell_type": "markdown",
   "id": "835e2ba6",
   "metadata": {},
   "source": [
    "Entonces podemos calcular la efectividad de estos jugadores en convertir, usando nuestras variables."
   ]
  },
  {
   "cell_type": "code",
   "execution_count": 12,
   "id": "d12a15e7",
   "metadata": {},
   "outputs": [],
   "source": [
    "Lewa_c=Lewandoski_g/Lewandoski_d\n",
    "Unal_c = Unal_g/Unal_d\n",
    "Joselu_c = Joselu_g/Joselu_d\n",
    "Iglesias_c= Iglesias_g/Iglesias_d\n",
    "Aspas_c = Aspas_g/Aspas_d"
   ]
  },
  {
   "cell_type": "code",
   "execution_count": 13,
   "id": "fd4eec03",
   "metadata": {},
   "outputs": [
    {
     "name": "stdout",
     "output_type": "stream",
     "text": [
      "0.36585365853658536 0.4642857142857143 0.5217391304347826 0.5 0.46153846153846156\n"
     ]
    }
   ],
   "source": [
    "print(Lewa_c, Unal_c,Joselu_c,Iglesias_c,Aspas_c)"
   ]
  },
  {
   "cell_type": "markdown",
   "id": "feec0979",
   "metadata": {},
   "source": [
    "## Listas y bucles for\n",
    "\n",
    "Este ejercico que hemos hecho con los 5 máximos goleadores a día de hoy, ya ha resultado un poco pesado porque he tenido que ir copiando uuno a uno y he tenido que ir haciendo las divisiones uno a uno. Parece que podemos hacer algo mejor las cosas.\n",
    "\n",
    "Empecemos creando una lista que se pone entre corchetes."
   ]
  },
  {
   "cell_type": "code",
   "execution_count": 35,
   "id": "408570ba",
   "metadata": {},
   "outputs": [],
   "source": [
    "lista_gol =[Lewandoski_g,Unal_g,Joselu_g,Iglesias_g,Aspas_g]"
   ]
  },
  {
   "cell_type": "code",
   "execution_count": 36,
   "id": "cf491790",
   "metadata": {},
   "outputs": [
    {
     "name": "stdout",
     "output_type": "stream",
     "text": [
      "[15, 13, 12, 12, 12] 5\n"
     ]
    }
   ],
   "source": [
    "print(lista_gol, len(lista_gol))"
   ]
  },
  {
   "cell_type": "code",
   "execution_count": 37,
   "id": "9e95eca4",
   "metadata": {},
   "outputs": [
    {
     "data": {
      "text/plain": [
       "[41, 28, 23, 24, 26]"
      ]
     },
     "execution_count": 37,
     "metadata": {},
     "output_type": "execute_result"
    }
   ],
   "source": [
    "lista_dis = [Lewandoski_d,Unal_d,Joselu_d,Iglesias_d,Aspas_d]\n",
    "lista_dis"
   ]
  },
  {
   "cell_type": "markdown",
   "id": "487e6d4b",
   "metadata": {},
   "source": [
    "Bueno supongamos que queremos añadir el siguiente jugador a la lista, que es Benzema con 11 goles y 30 disparos a puerta."
   ]
  },
  {
   "cell_type": "code",
   "execution_count": 38,
   "id": "d22ad1b7",
   "metadata": {},
   "outputs": [],
   "source": [
    "lista_gol.append(11)\n",
    "lista_dis.append(30)"
   ]
  },
  {
   "cell_type": "code",
   "execution_count": 39,
   "id": "64fe8aa1",
   "metadata": {},
   "outputs": [
    {
     "name": "stdout",
     "output_type": "stream",
     "text": [
      "[15, 13, 12, 12, 12, 11] [41, 28, 23, 24, 26, 30]\n"
     ]
    }
   ],
   "source": [
    "print(lista_gol,lista_dis)"
   ]
  },
  {
   "cell_type": "code",
   "execution_count": 40,
   "id": "63094c91",
   "metadata": {},
   "outputs": [
    {
     "ename": "TypeError",
     "evalue": "unsupported operand type(s) for /: 'list' and 'list'",
     "output_type": "error",
     "traceback": [
      "\u001b[0;31m---------------------------------------------------------------------------\u001b[0m",
      "\u001b[0;31mTypeError\u001b[0m                                 Traceback (most recent call last)",
      "Input \u001b[0;32mIn [40]\u001b[0m, in \u001b[0;36m<cell line: 1>\u001b[0;34m()\u001b[0m\n\u001b[0;32m----> 1\u001b[0m Lista_c \u001b[38;5;241m=\u001b[39m \u001b[43mlista_gol\u001b[49m\u001b[38;5;241;43m/\u001b[39;49m\u001b[43mlista_dis\u001b[49m\n",
      "\u001b[0;31mTypeError\u001b[0m: unsupported operand type(s) for /: 'list' and 'list'"
     ]
    }
   ],
   "source": [
    "Lista_c = lista_gol/lista_dis"
   ]
  },
  {
   "cell_type": "markdown",
   "id": "682c507c",
   "metadata": {},
   "source": [
    "Vaya parece que no puedo hacerlo así a lo bruto con las listas. Pero podemos hacer un bucle for.\n",
    "El primer paso es ver si 1 a uno soy capaz de hacer la división. Para ello vamos a coger el primer elemento de la lista de goles y el primer elemento de la lista de número de disparos a puerta y dividirlo"
   ]
  },
  {
   "cell_type": "code",
   "execution_count": 41,
   "id": "0478c975",
   "metadata": {},
   "outputs": [
    {
     "name": "stdout",
     "output_type": "stream",
     "text": [
      "15 41 0.36585365853658536\n"
     ]
    }
   ],
   "source": [
    "print(lista_gol[0],lista_dis[0],lista_gol[0]/lista_dis[0])"
   ]
  },
  {
   "cell_type": "markdown",
   "id": "03a9c00b",
   "metadata": {},
   "source": [
    "Parece que esto si que funciona, luego podemos recorrer las dos listas e ir haciendo la división.\n",
    "Como primer paso vamos a escribir un bucle for sencillo."
   ]
  },
  {
   "cell_type": "code",
   "execution_count": 42,
   "id": "5103ec3c",
   "metadata": {},
   "outputs": [
    {
     "name": "stdout",
     "output_type": "stream",
     "text": [
      "0\n",
      "1\n",
      "2\n",
      "3\n",
      "4\n",
      "5\n"
     ]
    }
   ],
   "source": [
    "for i in range(len(lista_gol)):\n",
    "    print(i)"
   ]
  },
  {
   "cell_type": "code",
   "execution_count": 43,
   "id": "cf4636f9",
   "metadata": {},
   "outputs": [],
   "source": [
    "lista_c=[]\n",
    "for i in range(len(lista_gol)):\n",
    "    lista_c.append(lista_gol[i]/lista_dis[i])"
   ]
  },
  {
   "cell_type": "code",
   "execution_count": 44,
   "id": "c189dbfc",
   "metadata": {},
   "outputs": [
    {
     "name": "stdout",
     "output_type": "stream",
     "text": [
      "[15, 13, 12, 12, 12, 11] [0.36585365853658536, 0.4642857142857143, 0.5217391304347826, 0.5, 0.46153846153846156, 0.36666666666666664]\n"
     ]
    }
   ],
   "source": [
    "print(lista_gol,lista_c)"
   ]
  },
  {
   "cell_type": "code",
   "execution_count": 118,
   "id": "c65a9017",
   "metadata": {},
   "outputs": [
    {
     "data": {
      "text/plain": [
       "['Lewandowski', 'Unal', 'Joselu', 'Iglesias', 'Aspas', 'Benzema']"
      ]
     },
     "execution_count": 118,
     "metadata": {},
     "output_type": "execute_result"
    }
   ],
   "source": [
    "lista_jug = [\"Lewandowski\",\"Unal\",\"Joselu\",\"Iglesias\",\"Aspas\",\"Benzema\"]\n",
    "lista_jug"
   ]
  },
  {
   "cell_type": "code",
   "execution_count": 119,
   "id": "cd29cccd",
   "metadata": {},
   "outputs": [
    {
     "name": "stdout",
     "output_type": "stream",
     "text": [
      "El jugador  Lewandowski ha marcado  15 goles, con una eficiencia de  0.36585365853658536\n",
      "El jugador  Unal ha marcado  13 goles, con una eficiencia de  0.4642857142857143\n",
      "El jugador  Joselu ha marcado  12 goles, con una eficiencia de  0.5217391304347826\n",
      "El jugador  Iglesias ha marcado  12 goles, con una eficiencia de  0.5\n",
      "El jugador  Aspas ha marcado  12 goles, con una eficiencia de  0.46153846153846156\n",
      "El jugador  Benzema ha marcado  11 goles, con una eficiencia de  0.36666666666666664\n"
     ]
    }
   ],
   "source": [
    "for i in range(len(lista_jug)):\n",
    "    print(\"El jugador \",lista_jug[i],\"ha marcado \", lista_gol[i], \"goles, con una eficiencia de \",lista_c[i])"
   ]
  },
  {
   "cell_type": "markdown",
   "id": "92826d00",
   "metadata": {},
   "source": [
    "## Diccionarios\n",
    "\n",
    "Aunque con las listas parece que nuestro trabajo ha sido más fácil y hemos podido automatizar las cosas. La estructura de guardar los datos nos ha quedado un poco dispersa con los jugadores por un lado, los goles y los disparos por otro. Vamos a ver una forma más interesante de guardar los datos que son los diccionarios.\n",
    "\n",
    "Los diccionarios se definen con llaves, y tienen dos elementos: keys and value"
   ]
  },
  {
   "cell_type": "code",
   "execution_count": 120,
   "id": "6a1e31ee",
   "metadata": {},
   "outputs": [],
   "source": [
    "pichichis = {\"Lewandowski\":(15,41,15/41)}"
   ]
  },
  {
   "cell_type": "code",
   "execution_count": 121,
   "id": "56f9a345",
   "metadata": {},
   "outputs": [
    {
     "data": {
      "text/plain": [
       "{'Lewandowski': (15, 41, 0.36585365853658536)}"
      ]
     },
     "execution_count": 121,
     "metadata": {},
     "output_type": "execute_result"
    }
   ],
   "source": [
    "pichichis"
   ]
  },
  {
   "cell_type": "code",
   "execution_count": 122,
   "id": "0b1fdff3",
   "metadata": {},
   "outputs": [],
   "source": [
    "pichichi2 ={\"Nombre\": \"Lewandowski\",\n",
    "           \"Goles\": 15,\n",
    "           \"Disparos\":41}"
   ]
  },
  {
   "cell_type": "code",
   "execution_count": 123,
   "id": "e35ae29b",
   "metadata": {},
   "outputs": [],
   "source": [
    "pichichi3={\"Nombre\":lista_jug, \"Goles\":lista_gol, \"Disparos\":lista_dis}"
   ]
  },
  {
   "cell_type": "code",
   "execution_count": 124,
   "id": "e69a060b",
   "metadata": {},
   "outputs": [
    {
     "data": {
      "text/plain": [
       "{'Nombre': ['Lewandowski', 'Unal', 'Joselu', 'Iglesias', 'Aspas', 'Benzema'],\n",
       " 'Goles': [15, 13, 12, 12, 12, 11],\n",
       " 'Disparos': [41, 28, 23, 24, 26, 30]}"
      ]
     },
     "execution_count": 124,
     "metadata": {},
     "output_type": "execute_result"
    }
   ],
   "source": [
    "pichichi3"
   ]
  },
  {
   "cell_type": "code",
   "execution_count": 125,
   "id": "bcc25349",
   "metadata": {},
   "outputs": [],
   "source": [
    "pichichi4 = {}\n",
    "for i in range(len(lista_jug)):\n",
    "    pichichi4[i]={\"Name\":lista_jug[i],\"goles\":lista_gol[i], \"disparos\":lista_dis[i],\"eficiencia\":lista_gol[i]/lista_dis[i]}\n"
   ]
  },
  {
   "cell_type": "code",
   "execution_count": 126,
   "id": "865d9185",
   "metadata": {},
   "outputs": [
    {
     "data": {
      "text/plain": [
       "{0: {'Name': 'Lewandowski',\n",
       "  'goles': 15,\n",
       "  'disparos': 41,\n",
       "  'eficiencia': 0.36585365853658536},\n",
       " 1: {'Name': 'Unal',\n",
       "  'goles': 13,\n",
       "  'disparos': 28,\n",
       "  'eficiencia': 0.4642857142857143},\n",
       " 2: {'Name': 'Joselu',\n",
       "  'goles': 12,\n",
       "  'disparos': 23,\n",
       "  'eficiencia': 0.5217391304347826},\n",
       " 3: {'Name': 'Iglesias', 'goles': 12, 'disparos': 24, 'eficiencia': 0.5},\n",
       " 4: {'Name': 'Aspas',\n",
       "  'goles': 12,\n",
       "  'disparos': 26,\n",
       "  'eficiencia': 0.46153846153846156},\n",
       " 5: {'Name': 'Benzema',\n",
       "  'goles': 11,\n",
       "  'disparos': 30,\n",
       "  'eficiencia': 0.36666666666666664}}"
      ]
     },
     "execution_count": 126,
     "metadata": {},
     "output_type": "execute_result"
    }
   ],
   "source": [
    "pichichi4"
   ]
  },
  {
   "cell_type": "code",
   "execution_count": 127,
   "id": "8e973d72",
   "metadata": {},
   "outputs": [
    {
     "data": {
      "text/plain": [
       "{'Name': 'Lewandowski',\n",
       " 'goles': 15,\n",
       " 'disparos': 41,\n",
       " 'eficiencia': 0.36585365853658536}"
      ]
     },
     "execution_count": 127,
     "metadata": {},
     "output_type": "execute_result"
    }
   ],
   "source": [
    "pichichi4[0]"
   ]
  },
  {
   "cell_type": "code",
   "execution_count": 128,
   "id": "372f4379",
   "metadata": {},
   "outputs": [
    {
     "name": "stdout",
     "output_type": "stream",
     "text": [
      "Lewandowski\n",
      "Unal\n",
      "Joselu\n",
      "Iglesias\n",
      "Aspas\n",
      "Benzema\n",
      "0 Lewandowski\n",
      "1 Unal\n",
      "2 Joselu\n",
      "3 Iglesias\n",
      "4 Aspas\n",
      "5 Benzema\n"
     ]
    }
   ],
   "source": [
    "for j in lista_jug:\n",
    "    print(j)\n",
    "for i,j in enumerate(lista_jug):\n",
    "    print(i,j)"
   ]
  },
  {
   "cell_type": "code",
   "execution_count": 129,
   "id": "044abb87",
   "metadata": {},
   "outputs": [],
   "source": [
    "pichichi5 = {}\n",
    "for i, jug in enumerate(lista_jug):\n",
    "    pichichi5[jug]={\"goles\":lista_gol[i], \"disparos\":lista_dis[i],\"eficiencia\":lista_gol[i]/lista_dis[i]}\n"
   ]
  },
  {
   "cell_type": "code",
   "execution_count": 130,
   "id": "9d2d33f8",
   "metadata": {},
   "outputs": [
    {
     "data": {
      "text/plain": [
       "{'Lewandowski': {'goles': 15,\n",
       "  'disparos': 41,\n",
       "  'eficiencia': 0.36585365853658536},\n",
       " 'Unal': {'goles': 13, 'disparos': 28, 'eficiencia': 0.4642857142857143},\n",
       " 'Joselu': {'goles': 12, 'disparos': 23, 'eficiencia': 0.5217391304347826},\n",
       " 'Iglesias': {'goles': 12, 'disparos': 24, 'eficiencia': 0.5},\n",
       " 'Aspas': {'goles': 12, 'disparos': 26, 'eficiencia': 0.46153846153846156},\n",
       " 'Benzema': {'goles': 11, 'disparos': 30, 'eficiencia': 0.36666666666666664}}"
      ]
     },
     "execution_count": 130,
     "metadata": {},
     "output_type": "execute_result"
    }
   ],
   "source": [
    "pichichi5"
   ]
  },
  {
   "cell_type": "code",
   "execution_count": 131,
   "id": "4ffe6136",
   "metadata": {},
   "outputs": [
    {
     "data": {
      "text/plain": [
       "{'goles': 15, 'disparos': 41, 'eficiencia': 0.36585365853658536}"
      ]
     },
     "execution_count": 131,
     "metadata": {},
     "output_type": "execute_result"
    }
   ],
   "source": [
    "pichichi5['Lewandowski']"
   ]
  },
  {
   "cell_type": "markdown",
   "id": "68c45429",
   "metadata": {},
   "source": [
    "## Pandas Series y Dataframes\n",
    "\n",
    "Aunque los diccionarios parecen una buena manera de guardar datos pueden llegar a ser algo complejos. Además si partimos de ficheros en csv o excel puede ser mucho mejor trabajar con Pandas con Series y DataFrames"
   ]
  },
  {
   "cell_type": "code",
   "execution_count": 80,
   "id": "4940123d",
   "metadata": {},
   "outputs": [],
   "source": [
    "import pandas as pd \n",
    "import numpy as np"
   ]
  },
  {
   "cell_type": "code",
   "execution_count": 172,
   "id": "559dd45a",
   "metadata": {},
   "outputs": [],
   "source": [
    "Eficiencia = pd.Series(data=lista_c, index=lista_jug, name=\"Eficiencia\")\n",
    "Goles = pd.Series(data=lista_gol, index=lista_jug, name=\"Goles\")\n",
    "Disparos = pd.Series(data=lista_dis, index=lista_jug, name=\"Disparos\")"
   ]
  },
  {
   "cell_type": "code",
   "execution_count": 173,
   "id": "87709971",
   "metadata": {},
   "outputs": [
    {
     "data": {
      "text/plain": [
       "Lewandowski    0.365854\n",
       "Unal           0.464286\n",
       "Joselu         0.521739\n",
       "Iglesias       0.500000\n",
       "Aspas          0.461538\n",
       "Benzema        0.366667\n",
       "Name: Eficiencia, dtype: float64"
      ]
     },
     "execution_count": 173,
     "metadata": {},
     "output_type": "execute_result"
    }
   ],
   "source": [
    "Eficiencia"
   ]
  },
  {
   "cell_type": "code",
   "execution_count": 174,
   "id": "83352f62",
   "metadata": {},
   "outputs": [],
   "source": [
    "df =pd.DataFrame(index=lista_jug, columns=[\"Goles\", \"Disparos\",\"Eficiencia\"])"
   ]
  },
  {
   "cell_type": "code",
   "execution_count": 175,
   "id": "ef3adc87",
   "metadata": {},
   "outputs": [],
   "source": [
    "df[\"Goles\"]=lista_gol"
   ]
  },
  {
   "cell_type": "code",
   "execution_count": 176,
   "id": "8446bb00",
   "metadata": {},
   "outputs": [],
   "source": [
    "df[\"Disparos\"]=lista_dis\n",
    "df[\"Eficiencia\"]=lista_c"
   ]
  },
  {
   "cell_type": "code",
   "execution_count": 177,
   "id": "49d6933d",
   "metadata": {},
   "outputs": [
    {
     "data": {
      "text/html": [
       "<div>\n",
       "<style scoped>\n",
       "    .dataframe tbody tr th:only-of-type {\n",
       "        vertical-align: middle;\n",
       "    }\n",
       "\n",
       "    .dataframe tbody tr th {\n",
       "        vertical-align: top;\n",
       "    }\n",
       "\n",
       "    .dataframe thead th {\n",
       "        text-align: right;\n",
       "    }\n",
       "</style>\n",
       "<table border=\"1\" class=\"dataframe\">\n",
       "  <thead>\n",
       "    <tr style=\"text-align: right;\">\n",
       "      <th></th>\n",
       "      <th>Goles</th>\n",
       "      <th>Disparos</th>\n",
       "      <th>Eficiencia</th>\n",
       "    </tr>\n",
       "  </thead>\n",
       "  <tbody>\n",
       "    <tr>\n",
       "      <th>Lewandowski</th>\n",
       "      <td>15</td>\n",
       "      <td>41</td>\n",
       "      <td>0.365854</td>\n",
       "    </tr>\n",
       "    <tr>\n",
       "      <th>Unal</th>\n",
       "      <td>13</td>\n",
       "      <td>28</td>\n",
       "      <td>0.464286</td>\n",
       "    </tr>\n",
       "    <tr>\n",
       "      <th>Joselu</th>\n",
       "      <td>12</td>\n",
       "      <td>23</td>\n",
       "      <td>0.521739</td>\n",
       "    </tr>\n",
       "    <tr>\n",
       "      <th>Iglesias</th>\n",
       "      <td>12</td>\n",
       "      <td>24</td>\n",
       "      <td>0.500000</td>\n",
       "    </tr>\n",
       "    <tr>\n",
       "      <th>Aspas</th>\n",
       "      <td>12</td>\n",
       "      <td>26</td>\n",
       "      <td>0.461538</td>\n",
       "    </tr>\n",
       "    <tr>\n",
       "      <th>Benzema</th>\n",
       "      <td>11</td>\n",
       "      <td>30</td>\n",
       "      <td>0.366667</td>\n",
       "    </tr>\n",
       "  </tbody>\n",
       "</table>\n",
       "</div>"
      ],
      "text/plain": [
       "             Goles  Disparos  Eficiencia\n",
       "Lewandowski     15        41    0.365854\n",
       "Unal            13        28    0.464286\n",
       "Joselu          12        23    0.521739\n",
       "Iglesias        12        24    0.500000\n",
       "Aspas           12        26    0.461538\n",
       "Benzema         11        30    0.366667"
      ]
     },
     "execution_count": 177,
     "metadata": {},
     "output_type": "execute_result"
    }
   ],
   "source": [
    "df"
   ]
  },
  {
   "cell_type": "code",
   "execution_count": 178,
   "id": "6b4ed88f",
   "metadata": {},
   "outputs": [],
   "source": [
    "#df2 =pd.DataFrame(index=lista_jug,columns=['Goles','Eficiencia'],data=[Goles,Eficiencia])\n",
    "dff2=pd.concat([Goles,Disparos,Eficiencia], axis=1)"
   ]
  },
  {
   "cell_type": "code",
   "execution_count": 179,
   "id": "ab901007",
   "metadata": {},
   "outputs": [
    {
     "data": {
      "text/html": [
       "<div>\n",
       "<style scoped>\n",
       "    .dataframe tbody tr th:only-of-type {\n",
       "        vertical-align: middle;\n",
       "    }\n",
       "\n",
       "    .dataframe tbody tr th {\n",
       "        vertical-align: top;\n",
       "    }\n",
       "\n",
       "    .dataframe thead th {\n",
       "        text-align: right;\n",
       "    }\n",
       "</style>\n",
       "<table border=\"1\" class=\"dataframe\">\n",
       "  <thead>\n",
       "    <tr style=\"text-align: right;\">\n",
       "      <th></th>\n",
       "      <th>Goles</th>\n",
       "      <th>Disparos</th>\n",
       "      <th>Eficiencia</th>\n",
       "    </tr>\n",
       "  </thead>\n",
       "  <tbody>\n",
       "    <tr>\n",
       "      <th>Lewandowski</th>\n",
       "      <td>15</td>\n",
       "      <td>41</td>\n",
       "      <td>0.365854</td>\n",
       "    </tr>\n",
       "    <tr>\n",
       "      <th>Unal</th>\n",
       "      <td>13</td>\n",
       "      <td>28</td>\n",
       "      <td>0.464286</td>\n",
       "    </tr>\n",
       "    <tr>\n",
       "      <th>Joselu</th>\n",
       "      <td>12</td>\n",
       "      <td>23</td>\n",
       "      <td>0.521739</td>\n",
       "    </tr>\n",
       "    <tr>\n",
       "      <th>Iglesias</th>\n",
       "      <td>12</td>\n",
       "      <td>24</td>\n",
       "      <td>0.500000</td>\n",
       "    </tr>\n",
       "    <tr>\n",
       "      <th>Aspas</th>\n",
       "      <td>12</td>\n",
       "      <td>26</td>\n",
       "      <td>0.461538</td>\n",
       "    </tr>\n",
       "    <tr>\n",
       "      <th>Benzema</th>\n",
       "      <td>11</td>\n",
       "      <td>30</td>\n",
       "      <td>0.366667</td>\n",
       "    </tr>\n",
       "  </tbody>\n",
       "</table>\n",
       "</div>"
      ],
      "text/plain": [
       "             Goles  Disparos  Eficiencia\n",
       "Lewandowski     15        41    0.365854\n",
       "Unal            13        28    0.464286\n",
       "Joselu          12        23    0.521739\n",
       "Iglesias        12        24    0.500000\n",
       "Aspas           12        26    0.461538\n",
       "Benzema         11        30    0.366667"
      ]
     },
     "execution_count": 179,
     "metadata": {},
     "output_type": "execute_result"
    }
   ],
   "source": [
    "dff2"
   ]
  },
  {
   "cell_type": "code",
   "execution_count": 91,
   "id": "7f971a02",
   "metadata": {},
   "outputs": [
    {
     "data": {
      "text/plain": [
       "Lewandoski    15\n",
       "Unal          13\n",
       "Joselu        12\n",
       "Iglesias      12\n",
       "Aspas         12\n",
       "Benzema       11\n",
       "Name: Goles, dtype: int64"
      ]
     },
     "execution_count": 91,
     "metadata": {},
     "output_type": "execute_result"
    }
   ],
   "source": [
    "df['Goles']"
   ]
  },
  {
   "cell_type": "markdown",
   "id": "cc591908",
   "metadata": {},
   "source": [
    "Para seleccionar filas se usa el comando **loc**"
   ]
  },
  {
   "cell_type": "code",
   "execution_count": 92,
   "id": "0ebf1926",
   "metadata": {},
   "outputs": [
    {
     "data": {
      "text/plain": [
       "Goles         13.000000\n",
       "Disparos      28.000000\n",
       "Eficiencia     0.464286\n",
       "Name: Unal, dtype: float64"
      ]
     },
     "execution_count": 92,
     "metadata": {},
     "output_type": "execute_result"
    }
   ],
   "source": [
    "df.loc['Unal']"
   ]
  },
  {
   "cell_type": "code",
   "execution_count": 94,
   "id": "9d450160",
   "metadata": {},
   "outputs": [
    {
     "data": {
      "text/html": [
       "<div>\n",
       "<style scoped>\n",
       "    .dataframe tbody tr th:only-of-type {\n",
       "        vertical-align: middle;\n",
       "    }\n",
       "\n",
       "    .dataframe tbody tr th {\n",
       "        vertical-align: top;\n",
       "    }\n",
       "\n",
       "    .dataframe thead th {\n",
       "        text-align: right;\n",
       "    }\n",
       "</style>\n",
       "<table border=\"1\" class=\"dataframe\">\n",
       "  <thead>\n",
       "    <tr style=\"text-align: right;\">\n",
       "      <th></th>\n",
       "      <th>Goles</th>\n",
       "      <th>Disparos</th>\n",
       "    </tr>\n",
       "  </thead>\n",
       "  <tbody>\n",
       "    <tr>\n",
       "      <th>Lewandoski</th>\n",
       "      <td>15</td>\n",
       "      <td>41</td>\n",
       "    </tr>\n",
       "    <tr>\n",
       "      <th>Unal</th>\n",
       "      <td>13</td>\n",
       "      <td>28</td>\n",
       "    </tr>\n",
       "  </tbody>\n",
       "</table>\n",
       "</div>"
      ],
      "text/plain": [
       "            Goles  Disparos\n",
       "Lewandoski     15        41\n",
       "Unal           13        28"
      ]
     },
     "execution_count": 94,
     "metadata": {},
     "output_type": "execute_result"
    }
   ],
   "source": [
    "df.iloc[:2,:-1]"
   ]
  },
  {
   "cell_type": "markdown",
   "id": "cbfabb59",
   "metadata": {},
   "source": [
    "Supongamos que ahora queremos seleccionar jugadores con una eficiencia de 0.5 o superior"
   ]
  },
  {
   "cell_type": "code",
   "execution_count": 95,
   "id": "42c45202",
   "metadata": {},
   "outputs": [
    {
     "data": {
      "text/plain": [
       "Lewandoski    False\n",
       "Unal          False\n",
       "Joselu         True\n",
       "Iglesias       True\n",
       "Aspas         False\n",
       "Benzema       False\n",
       "Name: Eficiencia, dtype: bool"
      ]
     },
     "execution_count": 95,
     "metadata": {},
     "output_type": "execute_result"
    }
   ],
   "source": [
    "df[\"Eficiencia\"]>=0.5"
   ]
  },
  {
   "cell_type": "code",
   "execution_count": 96,
   "id": "400f8cd2",
   "metadata": {},
   "outputs": [
    {
     "data": {
      "text/html": [
       "<div>\n",
       "<style scoped>\n",
       "    .dataframe tbody tr th:only-of-type {\n",
       "        vertical-align: middle;\n",
       "    }\n",
       "\n",
       "    .dataframe tbody tr th {\n",
       "        vertical-align: top;\n",
       "    }\n",
       "\n",
       "    .dataframe thead th {\n",
       "        text-align: right;\n",
       "    }\n",
       "</style>\n",
       "<table border=\"1\" class=\"dataframe\">\n",
       "  <thead>\n",
       "    <tr style=\"text-align: right;\">\n",
       "      <th></th>\n",
       "      <th>Goles</th>\n",
       "      <th>Disparos</th>\n",
       "      <th>Eficiencia</th>\n",
       "    </tr>\n",
       "  </thead>\n",
       "  <tbody>\n",
       "    <tr>\n",
       "      <th>Joselu</th>\n",
       "      <td>12</td>\n",
       "      <td>23</td>\n",
       "      <td>0.521739</td>\n",
       "    </tr>\n",
       "    <tr>\n",
       "      <th>Iglesias</th>\n",
       "      <td>12</td>\n",
       "      <td>24</td>\n",
       "      <td>0.500000</td>\n",
       "    </tr>\n",
       "  </tbody>\n",
       "</table>\n",
       "</div>"
      ],
      "text/plain": [
       "          Goles  Disparos  Eficiencia\n",
       "Joselu       12        23    0.521739\n",
       "Iglesias     12        24    0.500000"
      ]
     },
     "execution_count": 96,
     "metadata": {},
     "output_type": "execute_result"
    }
   ],
   "source": [
    "df[df[\"Eficiencia\"]>=0.5]"
   ]
  },
  {
   "cell_type": "code",
   "execution_count": 97,
   "id": "b3bd9e85",
   "metadata": {},
   "outputs": [
    {
     "data": {
      "text/html": [
       "<div>\n",
       "<style scoped>\n",
       "    .dataframe tbody tr th:only-of-type {\n",
       "        vertical-align: middle;\n",
       "    }\n",
       "\n",
       "    .dataframe tbody tr th {\n",
       "        vertical-align: top;\n",
       "    }\n",
       "\n",
       "    .dataframe thead th {\n",
       "        text-align: right;\n",
       "    }\n",
       "</style>\n",
       "<table border=\"1\" class=\"dataframe\">\n",
       "  <thead>\n",
       "    <tr style=\"text-align: right;\">\n",
       "      <th></th>\n",
       "      <th>Goles</th>\n",
       "      <th>Disparos</th>\n",
       "      <th>Eficiencia</th>\n",
       "    </tr>\n",
       "  </thead>\n",
       "  <tbody>\n",
       "    <tr>\n",
       "      <th>count</th>\n",
       "      <td>6.000000</td>\n",
       "      <td>6.000000</td>\n",
       "      <td>6.000000</td>\n",
       "    </tr>\n",
       "    <tr>\n",
       "      <th>mean</th>\n",
       "      <td>12.500000</td>\n",
       "      <td>28.666667</td>\n",
       "      <td>0.446681</td>\n",
       "    </tr>\n",
       "    <tr>\n",
       "      <th>std</th>\n",
       "      <td>1.378405</td>\n",
       "      <td>6.562520</td>\n",
       "      <td>0.066246</td>\n",
       "    </tr>\n",
       "    <tr>\n",
       "      <th>min</th>\n",
       "      <td>11.000000</td>\n",
       "      <td>23.000000</td>\n",
       "      <td>0.365854</td>\n",
       "    </tr>\n",
       "    <tr>\n",
       "      <th>25%</th>\n",
       "      <td>12.000000</td>\n",
       "      <td>24.500000</td>\n",
       "      <td>0.390385</td>\n",
       "    </tr>\n",
       "    <tr>\n",
       "      <th>50%</th>\n",
       "      <td>12.000000</td>\n",
       "      <td>27.000000</td>\n",
       "      <td>0.462912</td>\n",
       "    </tr>\n",
       "    <tr>\n",
       "      <th>75%</th>\n",
       "      <td>12.750000</td>\n",
       "      <td>29.500000</td>\n",
       "      <td>0.491071</td>\n",
       "    </tr>\n",
       "    <tr>\n",
       "      <th>max</th>\n",
       "      <td>15.000000</td>\n",
       "      <td>41.000000</td>\n",
       "      <td>0.521739</td>\n",
       "    </tr>\n",
       "  </tbody>\n",
       "</table>\n",
       "</div>"
      ],
      "text/plain": [
       "           Goles   Disparos  Eficiencia\n",
       "count   6.000000   6.000000    6.000000\n",
       "mean   12.500000  28.666667    0.446681\n",
       "std     1.378405   6.562520    0.066246\n",
       "min    11.000000  23.000000    0.365854\n",
       "25%    12.000000  24.500000    0.390385\n",
       "50%    12.000000  27.000000    0.462912\n",
       "75%    12.750000  29.500000    0.491071\n",
       "max    15.000000  41.000000    0.521739"
      ]
     },
     "execution_count": 97,
     "metadata": {},
     "output_type": "execute_result"
    }
   ],
   "source": [
    "df.describe()"
   ]
  },
  {
   "cell_type": "code",
   "execution_count": 98,
   "id": "1038e73e",
   "metadata": {},
   "outputs": [],
   "source": [
    "import seaborn as sns\n",
    "import matplotlib.pyplot as plt"
   ]
  },
  {
   "cell_type": "code",
   "execution_count": 103,
   "id": "0d0f9943",
   "metadata": {},
   "outputs": [
    {
     "data": {
      "text/plain": [
       "array([[<AxesSubplot:title={'center':'Goles'}>,\n",
       "        <AxesSubplot:title={'center':'Disparos'}>],\n",
       "       [<AxesSubplot:title={'center':'Eficiencia'}>, <AxesSubplot:>]],\n",
       "      dtype=object)"
      ]
     },
     "execution_count": 103,
     "metadata": {},
     "output_type": "execute_result"
    },
    {
     "data": {
      "image/png": "[encoded data removed]",
      "text/plain": [
       "<Figure size 1080x1800 with 4 Axes>"
      ]
     },
     "metadata": {
      "needs_background": "light"
     },
     "output_type": "display_data"
    }
   ],
   "source": [
    "df.hist(figsize=(15,25), bins=10, xlabelsize=10, ylabelsize=10)"
   ]
  },
  {
   "cell_type": "code",
   "execution_count": 186,
   "id": "2d870683",
   "metadata": {},
   "outputs": [
    {
     "data": {
      "image/png": "[encoded data removed]",
      "text/plain": [
       "<Figure size 432x288 with 1 Axes>"
      ]
     },
     "metadata": {
      "needs_background": "light"
     },
     "output_type": "display_data"
    }
   ],
   "source": [
    "sns.scatterplot(x=df.Goles, y=df.Disparos,data= df, hue=df.index)\n",
    "plt.title(\"Disparos frente a Goles\");"
   ]
  },
  {
   "cell_type": "code",
   "execution_count": null,
   "id": "916d20d0",
   "metadata": {},
   "outputs": [],
   "source": []
  }
 ],
 "metadata": {
  "kernelspec": {
   "display_name": "Python 3 (ipykernel)",
   "language": "python",
   "name": "python3"
  },
  "language_info": {
   "codemirror_mode": {
    "name": "ipython",
    "version": 3
   },
   "file_extension": ".py",
   "mimetype": "text/x-python",
   "name": "python",
   "nbconvert_exporter": "python",
   "pygments_lexer": "ipython3",
   "version": "3.8.13"
  }
 },
 "nbformat": 4,
 "nbformat_minor": 5
}
