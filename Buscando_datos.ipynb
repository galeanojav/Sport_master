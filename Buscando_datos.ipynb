{
 "cells": [
  {
   "cell_type": "markdown",
   "id": "5fb81d4f",
   "metadata": {},
   "source": [
    "# Buscando datos\n",
    "\n",
    "Ya sabemos pintar nuestros terrenos de juego. El siguiente paso es buscar los datos que queremos pintar sobre nuestro terreno de juego."
   ]
  },
  {
   "cell_type": "markdown",
   "id": "2ad26abd",
   "metadata": {},
   "source": [
    "Googleamos **statsbomb open data**\n",
    "\n",
    "[statsbomb open data](https://github.com/statsbomb/open-data)"
   ]
  },
  {
   "cell_type": "markdown",
   "id": "3ca8f2ad",
   "metadata": {},
   "source": [
    "Nos aparecerá una página de GitHub que nos podemos descargar de manera completa."
   ]
  },
  {
   "cell_type": "markdown",
   "id": "94a4aaaa",
   "metadata": {},
   "source": [
    "El otro sitio para buscar datos es **wyscout**. Wyscout tiene sus datos en un repositorio de datos que se llama Figshare, así que voy a buscar:\n",
    "\n",
    "**figshare wyscout**\n",
    "\n",
    "[figshare wyscout](https://figshare.com/collections/Soccer_match_event_dataset/4415000/2)\n",
    "\n",
    "De aquí me voy a descargar las carpetas de eventos (events) y la de partidos (matches)"
   ]
  },
  {
   "cell_type": "markdown",
   "id": "610f583a",
   "metadata": {},
   "source": [
    "Otros sitios donde podemos encontrar datos son:\n",
    "\n",
    "- [Kaggle](https://www.kaggle.com) Aquí además hay competiciones para hacer muchas cosas con los datos.\n",
    "\n",
    "- [Northern Arizona U](https://libraryguides.nau.edu/c.php?g=410999&p=2801309) Una lista de donde encontrar datos\n",
    "\n",
    "- [data.world](https://data.world/datasets/sports) Aquí se están subiendo muchos datos."
   ]
  },
  {
   "cell_type": "code",
   "execution_count": null,
   "id": "18b05478",
   "metadata": {},
   "outputs": [],
   "source": []
  }
 ],
 "metadata": {
  "kernelspec": {
   "display_name": "Python 3 (ipykernel)",
   "language": "python",
   "name": "python3"
  },
  "language_info": {
   "codemirror_mode": {
    "name": "ipython",
    "version": 3
   },
   "file_extension": ".py",
   "mimetype": "text/x-python",
   "name": "python",
   "nbconvert_exporter": "python",
   "pygments_lexer": "ipython3",
   "version": "3.8.13"
  }
 },
 "nbformat": 4,
 "nbformat_minor": 5
}
