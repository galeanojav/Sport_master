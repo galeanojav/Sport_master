{
 "cells": [
  {
   "cell_type": "markdown",
   "id": "079b52a2",
   "metadata": {},
   "source": [
    "# Expected goals model\n",
    "\n",
    "En este tema vamos a aprender a realizar un modelo básico para el estudio del fútbol, el **expected goals model**, que podríamos traducir algo así como el modelo de goles esperados. \n",
    "\n",
    "Este va a ser nuestro primer modelo estadístico con el que vamos a tratar de predecir unos resultados, goles, a partir de datos de diferentes eventos, disparos a puerta, utilizando nuestras herramientas de python\n",
    "\n"
   ]
  },
  {
   "cell_type": "markdown",
   "id": "905544f1",
   "metadata": {},
   "source": [
    "## ¿Qué es un expected goals?\n",
    "\n",
    "Podráimos definirlo como *la probabilidad de que en un día típico de fútbol un particular disparo a puerta desde una determinada posición acabe siendo gol*, es decir nos da la probabilidad que tiene un disparo a puerta de ser gol.\n",
    "\n",
    "Esta información la obtenemos analizando una enorme cantidad de partidos con los que *hemos entrenado* a nuestro modelo"
   ]
  },
  {
   "cell_type": "markdown",
   "id": "2ce8a643",
   "metadata": {},
   "source": [
    "## ¿ Por qué son importantes los expected goals?\n",
    "\n",
    "Hay bastantes razones pero os voy a dar unas pocas:\n",
    "\n",
    "1. La primera razón es porque nos cuentan una historia sobre un partido que no podemos obtener únicamente del resultado final.\n",
    "\n",
    "2. La segunda razón es porque pueden usarse como guía para ayudar a jugadores y entrenadores a la hora de tomar decisiones de cara al gol.\n",
    "\n",
    "![Atleti.jpg](Atleti.jpg)\n",
    "\n"
   ]
  },
  {
   "cell_type": "markdown",
   "id": "d2986a28",
   "metadata": {},
   "source": [
    "## Cargando los datos\n",
    "\n",
    "Vamos a comenzar importando las librerías que vamos a necesitar. En este problema vamos a trabajar con los datos de yscout para jugar con otros datos. (Wyscout data from https://figshare.com/collections/Soccer_match_event_dataset/4415000/2) Vamos a cargar los datos de la liga inglesa"
   ]
  },
  {
   "cell_type": "code",
   "execution_count": 1,
   "id": "f34e5971",
   "metadata": {},
   "outputs": [],
   "source": [
    "#Las librerías básicas\n",
    "import json\n",
    "import numpy as np\n",
    "import pandas as pd"
   ]
  },
  {
   "cell_type": "code",
   "execution_count": 2,
   "id": "06280835",
   "metadata": {},
   "outputs": [],
   "source": [
    "# Cargamos los datos de la liga inglesa en nuestra variable data\n",
    "\n",
    "with open('Wyscout/events/events_Spain.json') as f:\n",
    "    data = json.load(f)\n",
    "  "
   ]
  },
  {
   "cell_type": "code",
   "execution_count": 3,
   "id": "9c260c08",
   "metadata": {},
   "outputs": [
    {
     "data": {
      "text/html": [
       "<div>\n",
       "<style scoped>\n",
       "    .dataframe tbody tr th:only-of-type {\n",
       "        vertical-align: middle;\n",
       "    }\n",
       "\n",
       "    .dataframe tbody tr th {\n",
       "        vertical-align: top;\n",
       "    }\n",
       "\n",
       "    .dataframe thead th {\n",
       "        text-align: right;\n",
       "    }\n",
       "</style>\n",
       "<table border=\"1\" class=\"dataframe\">\n",
       "  <thead>\n",
       "    <tr style=\"text-align: right;\">\n",
       "      <th></th>\n",
       "      <th>eventId</th>\n",
       "      <th>subEventName</th>\n",
       "      <th>tags</th>\n",
       "      <th>playerId</th>\n",
       "      <th>positions</th>\n",
       "      <th>matchId</th>\n",
       "      <th>eventName</th>\n",
       "      <th>teamId</th>\n",
       "      <th>matchPeriod</th>\n",
       "      <th>eventSec</th>\n",
       "      <th>subEventId</th>\n",
       "      <th>id</th>\n",
       "    </tr>\n",
       "  </thead>\n",
       "  <tbody>\n",
       "    <tr>\n",
       "      <th>0</th>\n",
       "      <td>8</td>\n",
       "      <td>Simple pass</td>\n",
       "      <td>[{'id': 1801}]</td>\n",
       "      <td>3542</td>\n",
       "      <td>[{'y': 61, 'x': 37}, {'y': 50, 'x': 50}]</td>\n",
       "      <td>2565548</td>\n",
       "      <td>Pass</td>\n",
       "      <td>682</td>\n",
       "      <td>1H</td>\n",
       "      <td>2.994582</td>\n",
       "      <td>85</td>\n",
       "      <td>180864419</td>\n",
       "    </tr>\n",
       "    <tr>\n",
       "      <th>1</th>\n",
       "      <td>8</td>\n",
       "      <td>Simple pass</td>\n",
       "      <td>[{'id': 1801}]</td>\n",
       "      <td>274435</td>\n",
       "      <td>[{'y': 50, 'x': 50}, {'y': 30, 'x': 45}]</td>\n",
       "      <td>2565548</td>\n",
       "      <td>Pass</td>\n",
       "      <td>682</td>\n",
       "      <td>1H</td>\n",
       "      <td>3.137020</td>\n",
       "      <td>85</td>\n",
       "      <td>180864418</td>\n",
       "    </tr>\n",
       "    <tr>\n",
       "      <th>2</th>\n",
       "      <td>8</td>\n",
       "      <td>Simple pass</td>\n",
       "      <td>[{'id': 1801}]</td>\n",
       "      <td>364860</td>\n",
       "      <td>[{'y': 30, 'x': 45}, {'y': 12, 'x': 38}]</td>\n",
       "      <td>2565548</td>\n",
       "      <td>Pass</td>\n",
       "      <td>682</td>\n",
       "      <td>1H</td>\n",
       "      <td>6.709668</td>\n",
       "      <td>85</td>\n",
       "      <td>180864420</td>\n",
       "    </tr>\n",
       "    <tr>\n",
       "      <th>3</th>\n",
       "      <td>8</td>\n",
       "      <td>Simple pass</td>\n",
       "      <td>[{'id': 1801}]</td>\n",
       "      <td>3534</td>\n",
       "      <td>[{'y': 12, 'x': 38}, {'y': 69, 'x': 32}]</td>\n",
       "      <td>2565548</td>\n",
       "      <td>Pass</td>\n",
       "      <td>682</td>\n",
       "      <td>1H</td>\n",
       "      <td>8.805497</td>\n",
       "      <td>85</td>\n",
       "      <td>180864421</td>\n",
       "    </tr>\n",
       "    <tr>\n",
       "      <th>4</th>\n",
       "      <td>8</td>\n",
       "      <td>Simple pass</td>\n",
       "      <td>[{'id': 1801}]</td>\n",
       "      <td>3695</td>\n",
       "      <td>[{'y': 69, 'x': 32}, {'y': 37, 'x': 31}]</td>\n",
       "      <td>2565548</td>\n",
       "      <td>Pass</td>\n",
       "      <td>682</td>\n",
       "      <td>1H</td>\n",
       "      <td>14.047492</td>\n",
       "      <td>85</td>\n",
       "      <td>180864422</td>\n",
       "    </tr>\n",
       "  </tbody>\n",
       "</table>\n",
       "</div>"
      ],
      "text/plain": [
       "   eventId subEventName            tags  playerId  \\\n",
       "0        8  Simple pass  [{'id': 1801}]      3542   \n",
       "1        8  Simple pass  [{'id': 1801}]    274435   \n",
       "2        8  Simple pass  [{'id': 1801}]    364860   \n",
       "3        8  Simple pass  [{'id': 1801}]      3534   \n",
       "4        8  Simple pass  [{'id': 1801}]      3695   \n",
       "\n",
       "                                  positions  matchId eventName  teamId  \\\n",
       "0  [{'y': 61, 'x': 37}, {'y': 50, 'x': 50}]  2565548      Pass     682   \n",
       "1  [{'y': 50, 'x': 50}, {'y': 30, 'x': 45}]  2565548      Pass     682   \n",
       "2  [{'y': 30, 'x': 45}, {'y': 12, 'x': 38}]  2565548      Pass     682   \n",
       "3  [{'y': 12, 'x': 38}, {'y': 69, 'x': 32}]  2565548      Pass     682   \n",
       "4  [{'y': 69, 'x': 32}, {'y': 37, 'x': 31}]  2565548      Pass     682   \n",
       "\n",
       "  matchPeriod   eventSec subEventId         id  \n",
       "0          1H   2.994582         85  180864419  \n",
       "1          1H   3.137020         85  180864418  \n",
       "2          1H   6.709668         85  180864420  \n",
       "3          1H   8.805497         85  180864421  \n",
       "4          1H  14.047492         85  180864422  "
      ]
     },
     "execution_count": 3,
     "metadata": {},
     "output_type": "execute_result"
    }
   ],
   "source": [
    "#Creamos un DataFrame de pandas\n",
    "\n",
    "train = pd.DataFrame(data)\n",
    "train.head()\n"
   ]
  },
  {
   "cell_type": "code",
   "execution_count": 4,
   "id": "11141d3a",
   "metadata": {},
   "outputs": [
    {
     "data": {
      "text/plain": [
       "array(['Simple pass', 'Smart pass', 'Cross', 'Ground defending duel',\n",
       "       'Acceleration', 'Ground attacking duel', 'Shot', 'Reflexes',\n",
       "       'Touch', 'Ball out of the field', 'Corner', 'Goal kick',\n",
       "       'Throw in', 'High pass', 'Head pass', 'Launch',\n",
       "       'Ground loose ball duel', 'Foul', 'Free Kick', 'Clearance',\n",
       "       'Air duel', '', 'Free kick cross', 'Hand foul', 'Save attempt',\n",
       "       'Hand pass', 'Goalkeeper leaving line', 'Penalty',\n",
       "       'Free kick shot', 'Late card foul', 'Time lost foul', 'Whistle',\n",
       "       'Simulation', 'Protest', 'Out of game foul', 'Violent Foul'],\n",
       "      dtype=object)"
      ]
     },
     "execution_count": 4,
     "metadata": {},
     "output_type": "execute_result"
    }
   ],
   "source": [
    "# Vemos que la columna que nos interesa es la de subEventName, que dice que tipo de evento futbolístico tenemos.\n",
    "# Veamos que tipo de eventos hay usando la función unique()\n",
    "\n",
    "pd.unique(train['subEventName'])\n"
   ]
  },
  {
   "cell_type": "code",
   "execution_count": 5,
   "id": "089bbe76",
   "metadata": {},
   "outputs": [
    {
     "data": {
      "text/html": [
       "<div>\n",
       "<style scoped>\n",
       "    .dataframe tbody tr th:only-of-type {\n",
       "        vertical-align: middle;\n",
       "    }\n",
       "\n",
       "    .dataframe tbody tr th {\n",
       "        vertical-align: top;\n",
       "    }\n",
       "\n",
       "    .dataframe thead th {\n",
       "        text-align: right;\n",
       "    }\n",
       "</style>\n",
       "<table border=\"1\" class=\"dataframe\">\n",
       "  <thead>\n",
       "    <tr style=\"text-align: right;\">\n",
       "      <th></th>\n",
       "      <th>eventId</th>\n",
       "      <th>subEventName</th>\n",
       "      <th>tags</th>\n",
       "      <th>playerId</th>\n",
       "      <th>positions</th>\n",
       "      <th>matchId</th>\n",
       "      <th>eventName</th>\n",
       "      <th>teamId</th>\n",
       "      <th>matchPeriod</th>\n",
       "      <th>eventSec</th>\n",
       "      <th>subEventId</th>\n",
       "      <th>id</th>\n",
       "    </tr>\n",
       "  </thead>\n",
       "  <tbody>\n",
       "    <tr>\n",
       "      <th>20</th>\n",
       "      <td>10</td>\n",
       "      <td>Shot</td>\n",
       "      <td>[{'id': 1901}, {'id': 401}, {'id': 201}, {'id'...</td>\n",
       "      <td>225089</td>\n",
       "      <td>[{'y': 34, 'x': 93}, {'y': 0, 'x': 0}]</td>\n",
       "      <td>2565548</td>\n",
       "      <td>Shot</td>\n",
       "      <td>695</td>\n",
       "      <td>1H</td>\n",
       "      <td>57.771186</td>\n",
       "      <td>100</td>\n",
       "      <td>180865315</td>\n",
       "    </tr>\n",
       "    <tr>\n",
       "      <th>22</th>\n",
       "      <td>10</td>\n",
       "      <td>Shot</td>\n",
       "      <td>[{'id': 402}, {'id': 2101}, {'id': 1802}]</td>\n",
       "      <td>255738</td>\n",
       "      <td>[{'y': 59, 'x': 80}, {'y': 0, 'x': 0}]</td>\n",
       "      <td>2565548</td>\n",
       "      <td>Shot</td>\n",
       "      <td>695</td>\n",
       "      <td>1H</td>\n",
       "      <td>60.727239</td>\n",
       "      <td>100</td>\n",
       "      <td>180864547</td>\n",
       "    </tr>\n",
       "    <tr>\n",
       "      <th>107</th>\n",
       "      <td>10</td>\n",
       "      <td>Shot</td>\n",
       "      <td>[{'id': 402}, {'id': 2101}, {'id': 201}, {'id'...</td>\n",
       "      <td>37831</td>\n",
       "      <td>[{'y': 57, 'x': 88}, {'y': 100, 'x': 100}]</td>\n",
       "      <td>2565548</td>\n",
       "      <td>Shot</td>\n",
       "      <td>682</td>\n",
       "      <td>1H</td>\n",
       "      <td>446.986112</td>\n",
       "      <td>100</td>\n",
       "      <td>180864486</td>\n",
       "    </tr>\n",
       "    <tr>\n",
       "      <th>111</th>\n",
       "      <td>10</td>\n",
       "      <td>Shot</td>\n",
       "      <td>[{'id': 402}, {'id': 201}, {'id': 1216}, {'id'...</td>\n",
       "      <td>15214</td>\n",
       "      <td>[{'y': 66, 'x': 87}, {'y': 100, 'x': 100}]</td>\n",
       "      <td>2565548</td>\n",
       "      <td>Shot</td>\n",
       "      <td>682</td>\n",
       "      <td>1H</td>\n",
       "      <td>488.929113</td>\n",
       "      <td>100</td>\n",
       "      <td>180864491</td>\n",
       "    </tr>\n",
       "    <tr>\n",
       "      <th>228</th>\n",
       "      <td>10</td>\n",
       "      <td>Shot</td>\n",
       "      <td>[{'id': 402}, {'id': 1214}, {'id': 1802}]</td>\n",
       "      <td>225089</td>\n",
       "      <td>[{'y': 40, 'x': 75}, {'y': 0, 'x': 0}]</td>\n",
       "      <td>2565548</td>\n",
       "      <td>Shot</td>\n",
       "      <td>695</td>\n",
       "      <td>1H</td>\n",
       "      <td>948.872079</td>\n",
       "      <td>100</td>\n",
       "      <td>180864792</td>\n",
       "    </tr>\n",
       "  </tbody>\n",
       "</table>\n",
       "</div>"
      ],
      "text/plain": [
       "     eventId subEventName                                               tags  \\\n",
       "20        10         Shot  [{'id': 1901}, {'id': 401}, {'id': 201}, {'id'...   \n",
       "22        10         Shot          [{'id': 402}, {'id': 2101}, {'id': 1802}]   \n",
       "107       10         Shot  [{'id': 402}, {'id': 2101}, {'id': 201}, {'id'...   \n",
       "111       10         Shot  [{'id': 402}, {'id': 201}, {'id': 1216}, {'id'...   \n",
       "228       10         Shot          [{'id': 402}, {'id': 1214}, {'id': 1802}]   \n",
       "\n",
       "     playerId                                   positions  matchId eventName  \\\n",
       "20     225089      [{'y': 34, 'x': 93}, {'y': 0, 'x': 0}]  2565548      Shot   \n",
       "22     255738      [{'y': 59, 'x': 80}, {'y': 0, 'x': 0}]  2565548      Shot   \n",
       "107     37831  [{'y': 57, 'x': 88}, {'y': 100, 'x': 100}]  2565548      Shot   \n",
       "111     15214  [{'y': 66, 'x': 87}, {'y': 100, 'x': 100}]  2565548      Shot   \n",
       "228    225089      [{'y': 40, 'x': 75}, {'y': 0, 'x': 0}]  2565548      Shot   \n",
       "\n",
       "     teamId matchPeriod    eventSec subEventId         id  \n",
       "20      695          1H   57.771186        100  180865315  \n",
       "22      695          1H   60.727239        100  180864547  \n",
       "107     682          1H  446.986112        100  180864486  \n",
       "111     682          1H  488.929113        100  180864491  \n",
       "228     695          1H  948.872079        100  180864792  "
      ]
     },
     "execution_count": 5,
     "metadata": {},
     "output_type": "execute_result"
    }
   ],
   "source": [
    "# Extraemos entonces los eventos que nos interesan que son los disparos a puerta\n",
    "shots=train[train['subEventName']=='Shot']\n",
    "\n",
    "shots.head()\n"
   ]
  },
  {
   "cell_type": "code",
   "execution_count": 6,
   "id": "fb9523df",
   "metadata": {},
   "outputs": [],
   "source": [
    "#Go through the dataframe and calculate X, Y co-ordinates.\n",
    "#Distance from a line in the centre\n",
    "#Shot angle.\n",
    "#Details of tags can be found here: https://apidocs.wyscout.com/matches-wyid-events\n",
    "\n",
    "shots_model=pd.DataFrame(columns=['Goal','X','Y'])\n",
    "for i,shot in shots.iterrows():\n",
    "    \n",
    "    header=0\n",
    "    for shottags in shot['tags']:\n",
    "        if shottags['id']==403:\n",
    "            header=1\n",
    "    #Only include non-headers        \n",
    "    if not(header):        \n",
    "        shots_model.at[i,'X']=100-shot['positions'][0]['x']\n",
    "        shots_model.at[i,'Y']=shot['positions'][0]['y']\n",
    "        shots_model.at[i,'C']=abs(shot['positions'][0]['y']-50)\n",
    "    \n",
    "        #Distance in metres and shot angle in radians.\n",
    "        x=shots_model.at[i,'X']*105/100\n",
    "        y=shots_model.at[i,'C']*65/100\n",
    "        shots_model.at[i,'Distance']=np.sqrt(x**2 + y**2)\n",
    "        a = np.arctan(7.32 *x /(x**2 + y**2 - (7.32/2)**2))\n",
    "        if a<0:\n",
    "            a=np.pi+a\n",
    "        shots_model.at[i,'Angle'] =a\n",
    "    \n",
    "        #Was it a goal\n",
    "        shots_model.at[i,'Goal']=0\n",
    "        for shottags in shot['tags']:\n",
    "                #Tags contain that its a goal\n",
    "                if shottags['id']==101:\n",
    "                    shots_model.at[i,'Goal']=1\n",
    "\n"
   ]
  },
  {
   "cell_type": "code",
   "execution_count": 7,
   "id": "2a2e02d1",
   "metadata": {},
   "outputs": [
    {
     "data": {
      "text/html": [
       "<div>\n",
       "<style scoped>\n",
       "    .dataframe tbody tr th:only-of-type {\n",
       "        vertical-align: middle;\n",
       "    }\n",
       "\n",
       "    .dataframe tbody tr th {\n",
       "        vertical-align: top;\n",
       "    }\n",
       "\n",
       "    .dataframe thead th {\n",
       "        text-align: right;\n",
       "    }\n",
       "</style>\n",
       "<table border=\"1\" class=\"dataframe\">\n",
       "  <thead>\n",
       "    <tr style=\"text-align: right;\">\n",
       "      <th></th>\n",
       "      <th>Goal</th>\n",
       "      <th>X</th>\n",
       "      <th>Y</th>\n",
       "      <th>C</th>\n",
       "      <th>Distance</th>\n",
       "      <th>Angle</th>\n",
       "    </tr>\n",
       "  </thead>\n",
       "  <tbody>\n",
       "    <tr>\n",
       "      <th>20</th>\n",
       "      <td>0</td>\n",
       "      <td>7</td>\n",
       "      <td>34</td>\n",
       "      <td>16.0</td>\n",
       "      <td>12.735089</td>\n",
       "      <td>0.346975</td>\n",
       "    </tr>\n",
       "    <tr>\n",
       "      <th>22</th>\n",
       "      <td>0</td>\n",
       "      <td>20</td>\n",
       "      <td>59</td>\n",
       "      <td>9.0</td>\n",
       "      <td>21.799599</td>\n",
       "      <td>0.321317</td>\n",
       "    </tr>\n",
       "    <tr>\n",
       "      <th>107</th>\n",
       "      <td>0</td>\n",
       "      <td>12</td>\n",
       "      <td>57</td>\n",
       "      <td>7.0</td>\n",
       "      <td>13.396361</td>\n",
       "      <td>0.506972</td>\n",
       "    </tr>\n",
       "    <tr>\n",
       "      <th>111</th>\n",
       "      <td>0</td>\n",
       "      <td>13</td>\n",
       "      <td>66</td>\n",
       "      <td>16.0</td>\n",
       "      <td>17.160492</td>\n",
       "      <td>0.341540</td>\n",
       "    </tr>\n",
       "    <tr>\n",
       "      <th>228</th>\n",
       "      <td>0</td>\n",
       "      <td>25</td>\n",
       "      <td>40</td>\n",
       "      <td>10.0</td>\n",
       "      <td>27.042790</td>\n",
       "      <td>0.261520</td>\n",
       "    </tr>\n",
       "    <tr>\n",
       "      <th>...</th>\n",
       "      <td>...</td>\n",
       "      <td>...</td>\n",
       "      <td>...</td>\n",
       "      <td>...</td>\n",
       "      <td>...</td>\n",
       "      <td>...</td>\n",
       "    </tr>\n",
       "    <tr>\n",
       "      <th>628323</th>\n",
       "      <td>0</td>\n",
       "      <td>7</td>\n",
       "      <td>66</td>\n",
       "      <td>16.0</td>\n",
       "      <td>12.735089</td>\n",
       "      <td>0.346975</td>\n",
       "    </tr>\n",
       "    <tr>\n",
       "      <th>628374</th>\n",
       "      <td>0</td>\n",
       "      <td>10</td>\n",
       "      <td>32</td>\n",
       "      <td>18.0</td>\n",
       "      <td>15.720687</td>\n",
       "      <td>0.317684</td>\n",
       "    </tr>\n",
       "    <tr>\n",
       "      <th>628540</th>\n",
       "      <td>1</td>\n",
       "      <td>8</td>\n",
       "      <td>25</td>\n",
       "      <td>25.0</td>\n",
       "      <td>18.292690</td>\n",
       "      <td>0.189128</td>\n",
       "    </tr>\n",
       "    <tr>\n",
       "      <th>628596</th>\n",
       "      <td>0</td>\n",
       "      <td>18</td>\n",
       "      <td>30</td>\n",
       "      <td>20.0</td>\n",
       "      <td>22.939268</td>\n",
       "      <td>0.263508</td>\n",
       "    </tr>\n",
       "    <tr>\n",
       "      <th>628637</th>\n",
       "      <td>0</td>\n",
       "      <td>12</td>\n",
       "      <td>43</td>\n",
       "      <td>7.0</td>\n",
       "      <td>13.396361</td>\n",
       "      <td>0.506972</td>\n",
       "    </tr>\n",
       "  </tbody>\n",
       "</table>\n",
       "<p>6608 rows × 6 columns</p>\n",
       "</div>"
      ],
      "text/plain": [
       "       Goal   X   Y     C   Distance     Angle\n",
       "20        0   7  34  16.0  12.735089  0.346975\n",
       "22        0  20  59   9.0  21.799599  0.321317\n",
       "107       0  12  57   7.0  13.396361  0.506972\n",
       "111       0  13  66  16.0  17.160492  0.341540\n",
       "228       0  25  40  10.0  27.042790  0.261520\n",
       "...     ...  ..  ..   ...        ...       ...\n",
       "628323    0   7  66  16.0  12.735089  0.346975\n",
       "628374    0  10  32  18.0  15.720687  0.317684\n",
       "628540    1   8  25  25.0  18.292690  0.189128\n",
       "628596    0  18  30  20.0  22.939268  0.263508\n",
       "628637    0  12  43   7.0  13.396361  0.506972\n",
       "\n",
       "[6608 rows x 6 columns]"
      ]
     },
     "execution_count": 7,
     "metadata": {},
     "output_type": "execute_result"
    }
   ],
   "source": [
    "shots_model"
   ]
  },
  {
   "cell_type": "code",
   "execution_count": 8,
   "id": "08759ff2",
   "metadata": {},
   "outputs": [],
   "source": [
    "#Plotting\n",
    "import matplotlib.pyplot as plt\n",
    "from matplotlib.patches import Arc\n",
    "  "
   ]
  },
  {
   "cell_type": "code",
   "execution_count": 9,
   "id": "737df498",
   "metadata": {},
   "outputs": [],
   "source": [
    "#Two dimensional histogram\n",
    "H_Shot=np.histogram2d(shots_model['X'], shots_model['Y'],bins=50,range=[[0, 100],[0, 100]])\n",
    "goals_only=shots_model[shots_model['Goal']==1]\n",
    "H_Goal=np.histogram2d(goals_only['X'], goals_only['Y'],bins=50,range=[[0, 100],[0, 100]])"
   ]
  },
  {
   "cell_type": "code",
   "execution_count": 10,
   "id": "ecf3de38",
   "metadata": {},
   "outputs": [],
   "source": [
    "def createGoalMouth():\n",
    "    #Adopted from FC Python\n",
    "    #Create figure\n",
    "    fig=plt.figure()\n",
    "    ax=fig.add_subplot(1,1,1)\n",
    "\n",
    "    linecolor='black'\n",
    "\n",
    "    #Pitch Outline & Centre Line\n",
    "    plt.plot([0,65],[0,0], color=linecolor)\n",
    "    plt.plot([65,65],[50,0], color=linecolor)\n",
    "    plt.plot([0,0],[50,0], color=linecolor)\n",
    "    \n",
    "    #Left Penalty Area\n",
    "    plt.plot([12.5,52.5],[16.5,16.5],color=linecolor)\n",
    "    plt.plot([52.5,52.5],[16.5,0],color=linecolor)\n",
    "    plt.plot([12.5,12.5],[0,16.5],color=linecolor)\n",
    "    \n",
    "    #Left 6-yard Box\n",
    "    plt.plot([41.5,41.5],[5.5,0],color=linecolor)\n",
    "    plt.plot([23.5,41.5],[5.5,5.5],color=linecolor)\n",
    "    plt.plot([23.5,23.5],[0,5.5],color=linecolor)\n",
    "    \n",
    "    #Goal\n",
    "    plt.plot([41.5-5.34,41.5-5.34],[-2,0],color=linecolor)\n",
    "    plt.plot([23.5+5.34,41.5-5.34],[-2,-2],color=linecolor)\n",
    "    plt.plot([23.5+5.34,23.5+5.34],[0,-2],color=linecolor)\n",
    "    \n",
    "    #Prepare Circles\n",
    "    leftPenSpot = plt.Circle((65/2,11),0.8,color=linecolor)\n",
    "    \n",
    "    #Draw Circles\n",
    "    ax.add_patch(leftPenSpot)\n",
    "    \n",
    "    #Prepare Arcs\n",
    "    leftArc = Arc((32.5,11),height=18.3,width=18.3,angle=0,theta1=38,theta2=142,color=linecolor)\n",
    "    \n",
    "    #Draw Arcs\n",
    "    ax.add_patch(leftArc)\n",
    "    \n",
    "    #Tidy Axes\n",
    "    plt.axis('off')\n",
    "    \n",
    "    return fig,ax\n",
    "\n"
   ]
  },
  {
   "cell_type": "code",
   "execution_count": 11,
   "id": "b5122a96",
   "metadata": {},
   "outputs": [
    {
     "data": {
      "image/png": "[encoded data removed]",
      "text/plain": [
       "<Figure size 432x288 with 2 Axes>"
      ]
     },
     "metadata": {
      "needs_background": "light"
     },
     "output_type": "display_data"
    }
   ],
   "source": [
    "#Plot the number of shots from different points\n",
    "(fig,ax) = createGoalMouth()\n",
    "pos=ax.imshow(H_Shot[0], extent=[-1,66,104,-1], aspect='auto',cmap=plt.cm.Reds)\n",
    "fig.colorbar(pos, ax=ax)\n",
    "ax.set_title('Number of shots')\n",
    "plt.xlim((-1,66))\n",
    "plt.ylim((-3,35))\n",
    "plt.tight_layout()\n",
    "plt.gca().set_aspect('equal', adjustable='box')\n",
    "plt.show()\n",
    "fig.savefig('NumberOfShots.pdf', dpi=None, bbox_inches=\"tight\")   \n",
    "\n"
   ]
  },
  {
   "cell_type": "code",
   "execution_count": 12,
   "id": "bbb85a8f",
   "metadata": {},
   "outputs": [
    {
     "data": {
      "image/png": "[encoded data removed]",
      "text/plain": [
       "<Figure size 432x288 with 2 Axes>"
      ]
     },
     "metadata": {
      "needs_background": "light"
     },
     "output_type": "display_data"
    }
   ],
   "source": [
    "#Plot the number of GOALS from different points\n",
    "(fig,ax) = createGoalMouth()\n",
    "pos=ax.imshow(H_Goal[0], extent=[-1,66,104,-1], aspect='auto',cmap=plt.cm.Reds)\n",
    "fig.colorbar(pos, ax=ax)\n",
    "ax.set_title('Number of goals')\n",
    "plt.xlim((-1,66))\n",
    "plt.ylim((-3,35))\n",
    "plt.tight_layout()\n",
    "plt.gca().set_aspect('equal', adjustable='box')\n",
    "plt.show()\n",
    "fig.savefig('NumberOfGoals.pdf', dpi=None, bbox_inches=\"tight\")   \n",
    "\n",
    "\n"
   ]
  },
  {
   "cell_type": "code",
   "execution_count": 13,
   "id": "06259a15",
   "metadata": {},
   "outputs": [
    {
     "name": "stderr",
     "output_type": "stream",
     "text": [
      "/var/folders/bp/v78k11s50pdbmf3gy9nync040000gn/T/ipykernel_6596/3280902137.py:3: RuntimeWarning: invalid value encountered in true_divide\n",
      "  pos=ax.imshow(H_Goal[0]/H_Shot[0], extent=[-1,66,104,-1], aspect='auto',cmap=plt.cm.Reds,vmin=0, vmax=0.5)\n"
     ]
    },
    {
     "data": {
      "image/png": "[encoded data removed]",
      "text/plain": [
       "<Figure size 432x288 with 2 Axes>"
      ]
     },
     "metadata": {
      "needs_background": "light"
     },
     "output_type": "display_data"
    }
   ],
   "source": [
    "#Plot the probability of scoring from different points\n",
    "(fig,ax) = createGoalMouth()\n",
    "pos=ax.imshow(H_Goal[0]/H_Shot[0], extent=[-1,66,104,-1], aspect='auto',cmap=plt.cm.Reds,vmin=0, vmax=0.5)\n",
    "fig.colorbar(pos, ax=ax)\n",
    "ax.set_title('Proportion of shots resulting in a goal')\n",
    "plt.xlim((-1,66))\n",
    "plt.ylim((-3,35))\n",
    "plt.tight_layout()\n",
    "plt.gca().set_aspect('equal', adjustable='box')\n",
    "plt.show()\n",
    "fig.savefig('ProbabilityOfScoring.pdf', dpi=None, bbox_inches=\"tight\")   \n",
    "\n"
   ]
  },
  {
   "cell_type": "markdown",
   "id": "2996d206",
   "metadata": {},
   "source": [
    "## Ajustando un modelo\n",
    "\n",
    "Hasta ahora lo que hemos hecho ha sido elegir unas variables y ver sus histogramas para ver que idea nos daban, pero no hemos ajustado ningún modelo matemático. Ajustar un modelo a nuestros datos es lo que nos va a permitir predecir."
   ]
  },
  {
   "cell_type": "code",
   "execution_count": 14,
   "id": "e1fa98f8",
   "metadata": {},
   "outputs": [],
   "source": [
    "import statsmodels.api as sm\n",
    "import statsmodels.formula.api as smf\n"
   ]
  },
  {
   "cell_type": "markdown",
   "id": "c137f620",
   "metadata": {},
   "source": [
    "### Ejemplo de un ajuste lineal\n",
    "\n",
    "Vamos a ver un ejemplo de un ajuste lineal, que nos puede resultar más fácil de entender. Vamos ajustar los siguientes datos: \n",
    "1. Número de minutos jugados\n",
    "2. Número de goles"
   ]
  },
  {
   "cell_type": "code",
   "execution_count": 15,
   "id": "af2e8499",
   "metadata": {},
   "outputs": [],
   "source": [
    "#Escribimos unos datos sobre minutos jugados y goles metidos\n",
    "minutes_played=np.array([120,452,185,708,340,561])\n",
    "goals_scored=np.array([1,6,3,7,3,5])\n",
    "\n",
    "#Y lo transformamos en un DataFrame\n",
    "minutes_model = pd.DataFrame()\n",
    "minutes_model = minutes_model.assign(minutes=minutes_played)\n",
    "minutes_model = minutes_model.assign(goals=goals_scored)\n",
    "\n"
   ]
  },
  {
   "cell_type": "code",
   "execution_count": 16,
   "id": "123cac79",
   "metadata": {},
   "outputs": [
    {
     "data": {
      "text/html": [
       "<div>\n",
       "<style scoped>\n",
       "    .dataframe tbody tr th:only-of-type {\n",
       "        vertical-align: middle;\n",
       "    }\n",
       "\n",
       "    .dataframe tbody tr th {\n",
       "        vertical-align: top;\n",
       "    }\n",
       "\n",
       "    .dataframe thead th {\n",
       "        text-align: right;\n",
       "    }\n",
       "</style>\n",
       "<table border=\"1\" class=\"dataframe\">\n",
       "  <thead>\n",
       "    <tr style=\"text-align: right;\">\n",
       "      <th></th>\n",
       "      <th>minutes</th>\n",
       "      <th>goals</th>\n",
       "    </tr>\n",
       "  </thead>\n",
       "  <tbody>\n",
       "    <tr>\n",
       "      <th>0</th>\n",
       "      <td>120</td>\n",
       "      <td>1</td>\n",
       "    </tr>\n",
       "    <tr>\n",
       "      <th>1</th>\n",
       "      <td>452</td>\n",
       "      <td>6</td>\n",
       "    </tr>\n",
       "    <tr>\n",
       "      <th>2</th>\n",
       "      <td>185</td>\n",
       "      <td>3</td>\n",
       "    </tr>\n",
       "    <tr>\n",
       "      <th>3</th>\n",
       "      <td>708</td>\n",
       "      <td>7</td>\n",
       "    </tr>\n",
       "    <tr>\n",
       "      <th>4</th>\n",
       "      <td>340</td>\n",
       "      <td>3</td>\n",
       "    </tr>\n",
       "    <tr>\n",
       "      <th>5</th>\n",
       "      <td>561</td>\n",
       "      <td>5</td>\n",
       "    </tr>\n",
       "  </tbody>\n",
       "</table>\n",
       "</div>"
      ],
      "text/plain": [
       "   minutes  goals\n",
       "0      120      1\n",
       "1      452      6\n",
       "2      185      3\n",
       "3      708      7\n",
       "4      340      3\n",
       "5      561      5"
      ]
     },
     "execution_count": 16,
     "metadata": {},
     "output_type": "execute_result"
    }
   ],
   "source": [
    "minutes_model\n"
   ]
  },
  {
   "cell_type": "code",
   "execution_count": 17,
   "id": "37b2ed3d",
   "metadata": {},
   "outputs": [
    {
     "data": {
      "image/png": "[encoded data removed]",
      "text/plain": [
       "<Figure size 432x288 with 1 Axes>"
      ]
     },
     "metadata": {
      "needs_background": "light"
     },
     "output_type": "display_data"
    }
   ],
   "source": [
    "fig,ax=plt.subplots(num=1)\n",
    "ax.plot(minutes_played, goals_scored, linestyle='none', marker= '.', markersize= 12, color='black')\n",
    "ax.set_ylabel('Goals scored')\n",
    "ax.set_xlabel('Minutes played')\n",
    "ax.spines['top'].set_visible(False)\n",
    "ax.spines['right'].set_visible(False)\n",
    "plt.xlim((0,750))\n",
    "plt.ylim((0,8));\n",
    "\n"
   ]
  },
  {
   "cell_type": "code",
   "execution_count": 18,
   "id": "d09fe00c",
   "metadata": {},
   "outputs": [
    {
     "data": {
      "image/png": "[encoded data removed]",
      "text/plain": [
       "<Figure size 432x288 with 1 Axes>"
      ]
     },
     "metadata": {
      "needs_background": "light"
     },
     "output_type": "display_data"
    }
   ],
   "source": [
    "fig,ax=plt.subplots(num=1)\n",
    "ax.plot(minutes_played, goals_scored, linestyle='none', marker= '.', markersize= 12, color='black')\n",
    "ax.set_ylabel('Goals scored')\n",
    "ax.set_xlabel('Minutes played')\n",
    "ax.spines['top'].set_visible(False)\n",
    "ax.spines['right'].set_visible(False)\n",
    "plt.xlim((0,750))\n",
    "plt.ylim((0,8))\n",
    "\n",
    "\n",
    "#Slope of one goal per 90 played\n",
    "b=1/90\n",
    "#Intercept\n",
    "a=0\n",
    "\n",
    "x=np.arange(800,step=0.1)\n",
    "y= a + b*x \n",
    "\n",
    "ax.plot(minutes_played, goals_scored, linestyle='none', marker= '.', markersize= 12, color='black')\n",
    "ax.plot(x, y, color='black')\n",
    "\n",
    "#Show distances to line\n",
    "for i,mp in enumerate(minutes_played):\n",
    "    ax.plot([mp,mp],[goals_scored[i],a+b*mp], color='red')\n",
    "\n",
    "\n",
    "plt.show()\n",
    "\n",
    "\n"
   ]
  },
  {
   "cell_type": "code",
   "execution_count": 19,
   "id": "c4978d43",
   "metadata": {},
   "outputs": [
    {
     "data": {
      "image/png": "[encoded data removed]",
      "text/plain": [
       "<Figure size 432x288 with 1 Axes>"
      ]
     },
     "metadata": {
      "needs_background": "light"
     },
     "output_type": "display_data"
    }
   ],
   "source": [
    "fig,ax=plt.subplots(num=1)\n",
    "ax.plot(minutes_played, goals_scored, linestyle='none', marker= '.', markersize= 12, color='black')\n",
    "ax.set_ylabel('Goals scored')\n",
    "ax.set_xlabel('Minutes played')\n",
    "ax.spines['top'].set_visible(False)\n",
    "ax.spines['right'].set_visible(False)\n",
    "plt.xlim((0,750))\n",
    "plt.ylim((0,8))\n",
    "\n",
    "\n",
    "#Slope determined by linear regression\n",
    "model_fit=smf.ols(formula='goals_scored ~ minutes_played ', data=minutes_model).fit()\n",
    "#print(model_fit.summary())        \n",
    "[a,b]=model_fit.params\n",
    "\n",
    "x=np.arange(800,step=0.1)\n",
    "y= a + b*x \n",
    "\n",
    "ax.plot(minutes_played, goals_scored, linestyle='none', marker= '.', markersize= 12, color='black')\n",
    "ax.plot(x, y, color='black')\n",
    "\n",
    "#Show distances to line\n",
    "for i,mp in enumerate(minutes_played):\n",
    "    ax.plot([mp,mp],[goals_scored[i],a+b*mp], color='red')\n",
    "\n",
    "\n",
    "plt.show()\n"
   ]
  },
  {
   "cell_type": "code",
   "execution_count": 20,
   "id": "0e3809ea",
   "metadata": {},
   "outputs": [
    {
     "name": "stderr",
     "output_type": "stream",
     "text": [
      "/Users/galeanojav/opt/anaconda3/lib/python3.8/site-packages/statsmodels/stats/stattools.py:74: ValueWarning: omni_normtest is not valid with less than 8 observations; 6 samples were given.\n",
      "  warn(\"omni_normtest is not valid with less than 8 observations; %i \"\n"
     ]
    },
    {
     "name": "stdout",
     "output_type": "stream",
     "text": [
      "                                 OLS Regression Results                                \n",
      "=======================================================================================\n",
      "Dep. Variable:           goals_scored   R-squared (uncentered):                   0.969\n",
      "Model:                            OLS   Adj. R-squared (uncentered):              0.963\n",
      "Method:                 Least Squares   F-statistic:                              156.1\n",
      "Date:                Mon, 07 Feb 2022   Prob (F-statistic):                    5.83e-05\n",
      "Time:                        12:44:32   Log-Likelihood:                         -7.2998\n",
      "No. Observations:                   6   AIC:                                      16.60\n",
      "Df Residuals:                       5   BIC:                                      16.39\n",
      "Df Model:                           1                                                  \n",
      "Covariance Type:            nonrobust                                                  \n",
      "==================================================================================\n",
      "                     coef    std err          t      P>|t|      [0.025      0.975]\n",
      "----------------------------------------------------------------------------------\n",
      "minutes_played     0.0103      0.001     12.495      0.000       0.008       0.012\n",
      "==============================================================================\n",
      "Omnibus:                          nan   Durbin-Watson:                   1.148\n",
      "Prob(Omnibus):                    nan   Jarque-Bera (JB):                0.840\n",
      "Skew:                           0.586   Prob(JB):                        0.657\n",
      "Kurtosis:                       1.590   Cond. No.                         1.00\n",
      "==============================================================================\n",
      "\n",
      "Notes:\n",
      "[1] R² is computed without centering (uncentered) since the model does not contain a constant.\n",
      "[2] Standard Errors assume that the covariance matrix of the errors is correctly specified.\n"
     ]
    },
    {
     "data": {
      "image/png": "[encoded data removed]",
      "text/plain": [
       "<Figure size 432x288 with 1 Axes>"
      ]
     },
     "metadata": {
      "needs_background": "light"
     },
     "output_type": "display_data"
    }
   ],
   "source": [
    "fig,ax=plt.subplots(num=1)\n",
    "ax.plot(minutes_played, goals_scored, linestyle='none', marker= '.', markersize= 12, color='black')\n",
    "ax.set_ylabel('Goals scored')\n",
    "ax.set_xlabel('Minutes played')\n",
    "ax.spines['top'].set_visible(False)\n",
    "ax.spines['right'].set_visible(False)\n",
    "plt.xlim((0,750))\n",
    "plt.ylim((0,8))\n",
    "\n",
    "\n",
    "#Slope determined by linear regression\n",
    "model_fit=smf.ols(formula='goals_scored ~ minutes_played -1', data=minutes_model).fit()\n",
    "print(model_fit.summary())        \n",
    "[b]=model_fit.params\n",
    "\n",
    "a=0\n",
    "x=np.arange(800,step=0.1)\n",
    "y= a + b*x \n",
    "\n",
    "ax.plot(minutes_played, goals_scored, linestyle='none', marker= '.', markersize= 12, color='black')\n",
    "ax.plot(x, y, color='black')\n",
    "\n",
    "#Show distances to line\n",
    "for i,mp in enumerate(minutes_played):\n",
    "    ax.plot([mp,mp],[goals_scored[i],a+b*mp], color='red')\n",
    "\n",
    "\n",
    "plt.show()\n",
    "\n"
   ]
  },
  {
   "cell_type": "code",
   "execution_count": 21,
   "id": "ee9bcc41",
   "metadata": {},
   "outputs": [
    {
     "data": {
      "text/plain": [
       "97.3466469428008"
      ]
     },
     "execution_count": 21,
     "metadata": {},
     "output_type": "execute_result"
    }
   ],
   "source": [
    "1/b"
   ]
  },
  {
   "cell_type": "markdown",
   "id": "c527f4e1",
   "metadata": {},
   "source": [
    "### Logistic curve\n",
    "\n",
    "Pero en nuestro caso parece que un ajuste lineal no va a ir bien. Primero porque queremos ajustar probabilidades que van a ir de 0 a 1, y va a llegar un momento que se tienen que suavizar al llegar a los límites. \n",
    "\n",
    "Para eso en los años 50 se inventó la ecuación logística, que tiene la forma:\n",
    "\n",
    "$$\n",
    "y=\\frac{1}{1+ e^{b_0 + b_1 x}}\n",
    "$$\n",
    "\n",
    "démonos cuenta que en realidad la idea es la misma tenemos que encontrar los parámetros $b_0$ y $b_1$ que mejor se ajusten a nustros datos.\n",
    "\n",
    "En realidad esto es uno de los problemas clásicos en Machine Learning que es el problema de regresión. "
   ]
  },
  {
   "cell_type": "code",
   "execution_count": 22,
   "id": "3e891345",
   "metadata": {},
   "outputs": [
    {
     "data": {
      "image/png": "[encoded data removed]",
      "text/plain": [
       "<Figure size 432x288 with 1 Axes>"
      ]
     },
     "metadata": {
      "needs_background": "light"
     },
     "output_type": "display_data"
    }
   ],
   "source": [
    "#Plot a logistic curve\n",
    "b=[3, -3]\n",
    "x=np.arange(5,step=0.1)\n",
    "y=1/(1+np.exp(+b[0]+b[1]*x))\n",
    "fig,ax=plt.subplots(num=1)\n",
    "plt.ylim((-0.05,1.05))\n",
    "plt.xlim((0,5))\n",
    "ax.set_ylabel('y')\n",
    "ax.set_xlabel(\"x\") \n",
    "ax.plot(x, y, linestyle='solid', color='black')\n",
    "ax.spines['top'].set_visible(False)\n",
    "ax.spines['right'].set_visible(False)\n",
    "plt.show()\n",
    "\n"
   ]
  },
  {
   "cell_type": "code",
   "execution_count": 23,
   "id": "4058d509",
   "metadata": {},
   "outputs": [
    {
     "data": {
      "image/png": "[encoded data removed]",
      "text/plain": [
       "<Figure size 432x288 with 1 Axes>"
      ]
     },
     "metadata": {
      "needs_background": "light"
     },
     "output_type": "display_data"
    }
   ],
   "source": [
    "#Plot a logistic curve\n",
    "b=[3, -3]\n",
    "x=np.arange(5,step=0.1)\n",
    "y=1/(1+np.exp(-b[0]-b[1]*x))\n",
    "fig,ax=plt.subplots(num=1)\n",
    "plt.ylim((-0.05,1.05))\n",
    "plt.xlim((0,5))\n",
    "ax.set_ylabel('y')\n",
    "ax.set_xlabel(\"x\") \n",
    "ax.plot(x, y, linestyle='solid', color='black')\n",
    "ax.spines['top'].set_visible(False)\n",
    "ax.spines['right'].set_visible(False)\n",
    "plt.show()\n",
    "\n"
   ]
  },
  {
   "cell_type": "code",
   "execution_count": 24,
   "id": "2eb5608a",
   "metadata": {},
   "outputs": [
    {
     "name": "stderr",
     "output_type": "stream",
     "text": [
      "/var/folders/bp/v78k11s50pdbmf3gy9nync040000gn/T/ipykernel_6596/1294969170.py:4: RuntimeWarning: invalid value encountered in true_divide\n",
      "  prob_goal=np.divide(goalcount_dist[0],shotcount_dist[0])\n"
     ]
    },
    {
     "data": {
      "image/png": "[encoded data removed]",
      "text/plain": [
       "<Figure size 432x288 with 1 Axes>"
      ]
     },
     "metadata": {
      "needs_background": "light"
     },
     "output_type": "display_data"
    }
   ],
   "source": [
    "#Show empirically how goal angle predicts probability of scoring\n",
    "shotcount_dist=np.histogram(shots_model['Angle']*180/np.pi,bins=40,range=[0, 150])\n",
    "goalcount_dist=np.histogram(goals_only['Angle']*180/np.pi,bins=40,range=[0, 150])\n",
    "prob_goal=np.divide(goalcount_dist[0],shotcount_dist[0])\n",
    "angle=shotcount_dist[1]\n",
    "midangle= (angle[:-1] + angle[1:])/2\n",
    "fig,ax=plt.subplots(num=2)\n",
    "ax.plot(midangle, prob_goal, linestyle='none', marker= '.', markersize= 12, color='black')\n",
    "ax.set_ylabel('Probability chance scored')\n",
    "ax.set_xlabel(\"Shot angle (degrees)\")\n",
    "ax.spines['top'].set_visible(False)\n",
    "ax.spines['right'].set_visible(False)\n",
    "\n"
   ]
  },
  {
   "cell_type": "code",
   "execution_count": 25,
   "id": "b46a17c2",
   "metadata": {},
   "outputs": [
    {
     "name": "stdout",
     "output_type": "stream",
     "text": [
      "                   Generalized Linear Model Regression Results                    \n",
      "==================================================================================\n",
      "Dep. Variable:     ['Goal[0]', 'Goal[1]']   No. Observations:                 6608\n",
      "Model:                                GLM   Df Residuals:                     6606\n",
      "Model Family:                    Binomial   Df Model:                            1\n",
      "Link Function:                      logit   Scale:                          1.0000\n",
      "Method:                              IRLS   Log-Likelihood:                -1908.7\n",
      "Date:                    Mon, 07 Feb 2022   Deviance:                       3817.4\n",
      "Time:                            12:44:53   Pearson chi2:                 6.12e+03\n",
      "No. Iterations:                         6   Pseudo R-squ. (CS):            0.09699\n",
      "Covariance Type:                nonrobust                                         \n",
      "==============================================================================\n",
      "                 coef    std err          z      P>|z|      [0.025      0.975]\n",
      "------------------------------------------------------------------------------\n",
      "Intercept      3.8730      0.093     41.854      0.000       3.692       4.054\n",
      "Angle         -3.9638      0.171    -23.228      0.000      -4.298      -3.629\n",
      "==============================================================================\n"
     ]
    },
    {
     "data": {
      "image/png": "[encoded data removed]",
      "text/plain": [
       "<Figure size 432x288 with 1 Axes>"
      ]
     },
     "metadata": {
      "needs_background": "light"
     },
     "output_type": "display_data"
    }
   ],
   "source": [
    "test_model = smf.glm(formula=\"Goal ~ Angle\" , data=shots_model, \n",
    "                           family=sm.families.Binomial()).fit()\n",
    "print(test_model.summary())        \n",
    "b=test_model.params\n",
    "\n",
    "\n",
    "xGprob=1/(1+np.exp(b[0]+b[1]*midangle*np.pi/180)) \n",
    "fig,ax=plt.subplots(num=1)\n",
    "ax.plot(midangle, prob_goal, linestyle='none', marker= '.', markersize= 12, color='black')\n",
    "ax.plot(midangle, xGprob, linestyle='solid', color='black')\n",
    "ax.set_ylabel('Probability chance scored')\n",
    "ax.set_xlabel(\"Shot angle (degrees)\")\n",
    "ax.spines['top'].set_visible(False)\n",
    "ax.spines['right'].set_visible(False)\n",
    "plt.show()\n",
    "fig.savefig('ProbabilityOfScoringAngleFit.pdf', dpi=None, bbox_inches=\"tight\")   \n",
    "\n",
    "\n",
    "\n"
   ]
  },
  {
   "cell_type": "code",
   "execution_count": 26,
   "id": "5181a1e9",
   "metadata": {},
   "outputs": [
    {
     "name": "stderr",
     "output_type": "stream",
     "text": [
      "/var/folders/bp/v78k11s50pdbmf3gy9nync040000gn/T/ipykernel_6596/83466701.py:3: RuntimeWarning: invalid value encountered in true_divide\n",
      "  prob_goal=np.divide(goalcount_dist[0],shotcount_dist[0])\n"
     ]
    },
    {
     "data": {
      "image/png": "[encoded data removed]",
      "text/plain": [
       "<Figure size 432x288 with 1 Axes>"
      ]
     },
     "metadata": {
      "needs_background": "light"
     },
     "output_type": "display_data"
    }
   ],
   "source": [
    "shotcount_dist=np.histogram(shots_model['Distance'],bins=40,range=[0, 70])\n",
    "goalcount_dist=np.histogram(goals_only['Distance'],bins=40,range=[0, 70])\n",
    "prob_goal=np.divide(goalcount_dist[0],shotcount_dist[0])\n",
    "distance=shotcount_dist[1]\n",
    "middistance= (distance[:-1] + distance[1:])/2\n",
    "fig,ax=plt.subplots(num=1)\n",
    "ax.plot(middistance, prob_goal, linestyle='none', marker= '.', color='black')\n",
    "ax.set_ylabel('Probability chance scored')\n",
    "ax.set_xlabel(\"Distance from goal (metres)\")\n",
    "ax.spines['top'].set_visible(False)\n",
    "ax.spines['right'].set_visible(False)\n",
    "\n"
   ]
  },
  {
   "cell_type": "code",
   "execution_count": 27,
   "id": "606622dc",
   "metadata": {},
   "outputs": [
    {
     "name": "stdout",
     "output_type": "stream",
     "text": [
      "                   Generalized Linear Model Regression Results                    \n",
      "==================================================================================\n",
      "Dep. Variable:     ['Goal[0]', 'Goal[1]']   No. Observations:                 6608\n",
      "Model:                                GLM   Df Residuals:                     6606\n",
      "Model Family:                    Binomial   Df Model:                            1\n",
      "Link Function:                      logit   Scale:                          1.0000\n",
      "Method:                              IRLS   Log-Likelihood:                -1891.9\n",
      "Date:                    Mon, 07 Feb 2022   Deviance:                       3783.8\n",
      "Time:                            12:45:08   Pearson chi2:                 3.10e+07\n",
      "No. Iterations:                         7   Pseudo R-squ. (CS):             0.1016\n",
      "Covariance Type:                nonrobust                                         \n",
      "==============================================================================\n",
      "                 coef    std err          z      P>|z|      [0.025      0.975]\n",
      "------------------------------------------------------------------------------\n",
      "Intercept     -0.6505      0.113     -5.764      0.000      -0.872      -0.429\n",
      "Distance       0.1722      0.008     22.397      0.000       0.157       0.187\n",
      "==============================================================================\n"
     ]
    }
   ],
   "source": [
    "#Make single variable model of distance\n",
    "test_model = smf.glm(formula=\"Goal ~ Distance\" , data=shots_model, \n",
    "                           family=sm.families.Binomial()).fit()\n",
    "print(test_model.summary())        \n",
    "b=test_model.params\n",
    "xGprob=1/(1+np.exp(b[0]+b[1]*middistance)) \n",
    "ax.plot(middistance, xGprob, linestyle='solid', color='black')\n",
    "plt.show()\n",
    "fig.savefig('ProbabilityOfScoringDistance.pdf', dpi=None, bbox_inches=\"tight\")   \n",
    "\n",
    "\n"
   ]
  },
  {
   "cell_type": "code",
   "execution_count": 28,
   "id": "6246c858",
   "metadata": {},
   "outputs": [
    {
     "name": "stdout",
     "output_type": "stream",
     "text": [
      "                   Generalized Linear Model Regression Results                    \n",
      "==================================================================================\n",
      "Dep. Variable:     ['Goal[0]', 'Goal[1]']   No. Observations:                 6608\n",
      "Model:                                GLM   Df Residuals:                     6606\n",
      "Model Family:                    Binomial   Df Model:                            1\n",
      "Link Function:                      logit   Scale:                          1.0000\n",
      "Method:                              IRLS   Log-Likelihood:                -1891.9\n",
      "Date:                    Mon, 07 Feb 2022   Deviance:                       3783.8\n",
      "Time:                            12:45:12   Pearson chi2:                 3.10e+07\n",
      "No. Iterations:                         7   Pseudo R-squ. (CS):             0.1016\n",
      "Covariance Type:                nonrobust                                         \n",
      "==============================================================================\n",
      "                 coef    std err          z      P>|z|      [0.025      0.975]\n",
      "------------------------------------------------------------------------------\n",
      "Intercept     -0.6505      0.113     -5.764      0.000      -0.872      -0.429\n",
      "Distance       0.1722      0.008     22.397      0.000       0.157       0.187\n",
      "==============================================================================\n"
     ]
    },
    {
     "data": {
      "image/png": "[encoded data removed]",
      "text/plain": [
       "<Figure size 432x288 with 1 Axes>"
      ]
     },
     "metadata": {
      "needs_background": "light"
     },
     "output_type": "display_data"
    }
   ],
   "source": [
    "#Adding distance squared\n",
    "#squaredD = shots_model['Distance']**2\n",
    "#shots_model = shots_model.assign(D2=squaredD)\n",
    "test_model = smf.glm(formula=\"Goal ~ Distance \" , data=shots_model, \n",
    "                           family=sm.families.Binomial()).fit()\n",
    "print(test_model.summary())        \n",
    "b=test_model.params\n",
    "xGprob=1/(1+np.exp(b[0]+b[1]*middistance) )\n",
    "fig,ax=plt.subplots(num=1)\n",
    "ax.plot(middistance, prob_goal, linestyle='none', marker= '.', color='black')\n",
    "ax.set_ylabel('Probability chance scored')\n",
    "ax.set_xlabel(\"Distance from goal (metres)\")\n",
    "ax.spines['top'].set_visible(False)\n",
    "ax.spines['right'].set_visible(False)\n",
    "ax.plot(middistance, xGprob, linestyle='solid', color='black')\n",
    "plt.show()\n",
    "fig.savefig('ProbabilityOfScoringDistanceSquared.pdf', dpi=None, bbox_inches=\"tight\")   \n",
    "\n",
    "\n"
   ]
  },
  {
   "cell_type": "code",
   "execution_count": 29,
   "id": "8f62b86d",
   "metadata": {},
   "outputs": [
    {
     "data": {
      "text/plain": [
       "'Angle + Distance'"
      ]
     },
     "execution_count": 29,
     "metadata": {},
     "output_type": "execute_result"
    }
   ],
   "source": [
    "# A general model for fitting goal probability\n",
    "# List the model variables you want here\n",
    "model_variables = ['Angle','Distance']\n",
    "model=''\n",
    "for v in model_variables[:-1]:\n",
    "    model = model  + v + ' + '\n",
    "model = model + model_variables[-1]\n",
    "\n",
    "model"
   ]
  },
  {
   "cell_type": "code",
   "execution_count": 30,
   "id": "1529a94d",
   "metadata": {},
   "outputs": [
    {
     "name": "stdout",
     "output_type": "stream",
     "text": [
      "                   Generalized Linear Model Regression Results                    \n",
      "==================================================================================\n",
      "Dep. Variable:     ['Goal[0]', 'Goal[1]']   No. Observations:                 6608\n",
      "Model:                                GLM   Df Residuals:                     6605\n",
      "Model Family:                    Binomial   Df Model:                            2\n",
      "Link Function:                      logit   Scale:                          1.0000\n",
      "Method:                              IRLS   Log-Likelihood:                -1859.4\n",
      "Date:                    Mon, 07 Feb 2022   Deviance:                       3718.8\n",
      "Time:                            12:45:19   Pearson chi2:                 1.52e+05\n",
      "No. Iterations:                         7   Pseudo R-squ. (CS):             0.1104\n",
      "Covariance Type:                nonrobust                                         \n",
      "==============================================================================\n",
      "                 coef    std err          z      P>|z|      [0.025      0.975]\n",
      "------------------------------------------------------------------------------\n",
      "Intercept      1.2693      0.269      4.711      0.000       0.741       1.797\n",
      "Angle         -1.8692      0.248     -7.536      0.000      -2.355      -1.383\n",
      "Distance       0.1034      0.011      9.410      0.000       0.082       0.125\n",
      "==============================================================================\n"
     ]
    }
   ],
   "source": [
    "#Fit the model\n",
    "test_model = smf.glm(formula=\"Goal ~ \" + model, data=shots_model, \n",
    "                           family=sm.families.Binomial()).fit()\n",
    "print(test_model.summary())        \n",
    "b=test_model.params"
   ]
  },
  {
   "cell_type": "code",
   "execution_count": 31,
   "id": "da34bbc8",
   "metadata": {},
   "outputs": [],
   "source": [
    "#Return xG value for more general model\n",
    "def calculate_xG(sh):    \n",
    "    bsum=b[0]\n",
    "    for i,v in enumerate(model_variables):\n",
    "        bsum=bsum+b[i+1]*sh[v]\n",
    "    xG = 1/(1+np.exp(bsum)) \n",
    "    return xG   \n",
    "\n",
    "#Add an xG to my dataframe\n",
    "xG=shots_model.apply(calculate_xG, axis=1) \n",
    "shots_model = shots_model.assign(xG=xG)\n"
   ]
  },
  {
   "cell_type": "code",
   "execution_count": 32,
   "id": "7465c402",
   "metadata": {},
   "outputs": [
    {
     "data": {
      "text/html": [
       "<div>\n",
       "<style scoped>\n",
       "    .dataframe tbody tr th:only-of-type {\n",
       "        vertical-align: middle;\n",
       "    }\n",
       "\n",
       "    .dataframe tbody tr th {\n",
       "        vertical-align: top;\n",
       "    }\n",
       "\n",
       "    .dataframe thead th {\n",
       "        text-align: right;\n",
       "    }\n",
       "</style>\n",
       "<table border=\"1\" class=\"dataframe\">\n",
       "  <thead>\n",
       "    <tr style=\"text-align: right;\">\n",
       "      <th></th>\n",
       "      <th>Goal</th>\n",
       "      <th>X</th>\n",
       "      <th>Y</th>\n",
       "      <th>C</th>\n",
       "      <th>Distance</th>\n",
       "      <th>Angle</th>\n",
       "      <th>xG</th>\n",
       "    </tr>\n",
       "  </thead>\n",
       "  <tbody>\n",
       "    <tr>\n",
       "      <th>20</th>\n",
       "      <td>0</td>\n",
       "      <td>7</td>\n",
       "      <td>34</td>\n",
       "      <td>16.0</td>\n",
       "      <td>12.735089</td>\n",
       "      <td>0.346975</td>\n",
       "      <td>0.125891</td>\n",
       "    </tr>\n",
       "    <tr>\n",
       "      <th>22</th>\n",
       "      <td>0</td>\n",
       "      <td>20</td>\n",
       "      <td>59</td>\n",
       "      <td>9.0</td>\n",
       "      <td>21.799599</td>\n",
       "      <td>0.321317</td>\n",
       "      <td>0.051017</td>\n",
       "    </tr>\n",
       "    <tr>\n",
       "      <th>107</th>\n",
       "      <td>0</td>\n",
       "      <td>12</td>\n",
       "      <td>57</td>\n",
       "      <td>7.0</td>\n",
       "      <td>13.396361</td>\n",
       "      <td>0.506972</td>\n",
       "      <td>0.153539</td>\n",
       "    </tr>\n",
       "    <tr>\n",
       "      <th>111</th>\n",
       "      <td>0</td>\n",
       "      <td>13</td>\n",
       "      <td>66</td>\n",
       "      <td>16.0</td>\n",
       "      <td>17.160492</td>\n",
       "      <td>0.341540</td>\n",
       "      <td>0.082743</td>\n",
       "    </tr>\n",
       "    <tr>\n",
       "      <th>228</th>\n",
       "      <td>0</td>\n",
       "      <td>25</td>\n",
       "      <td>40</td>\n",
       "      <td>10.0</td>\n",
       "      <td>27.042790</td>\n",
       "      <td>0.261520</td>\n",
       "      <td>0.027191</td>\n",
       "    </tr>\n",
       "  </tbody>\n",
       "</table>\n",
       "</div>"
      ],
      "text/plain": [
       "    Goal   X   Y     C   Distance     Angle        xG\n",
       "20     0   7  34  16.0  12.735089  0.346975  0.125891\n",
       "22     0  20  59   9.0  21.799599  0.321317  0.051017\n",
       "107    0  12  57   7.0  13.396361  0.506972  0.153539\n",
       "111    0  13  66  16.0  17.160492  0.341540  0.082743\n",
       "228    0  25  40  10.0  27.042790  0.261520  0.027191"
      ]
     },
     "execution_count": 32,
     "metadata": {},
     "output_type": "execute_result"
    }
   ],
   "source": [
    "shots_model.head()"
   ]
  },
  {
   "cell_type": "code",
   "execution_count": 33,
   "id": "642dfbab",
   "metadata": {},
   "outputs": [
    {
     "data": {
      "image/png": "[encoded data removed]",
      "text/plain": [
       "<Figure size 432x288 with 2 Axes>"
      ]
     },
     "metadata": {
      "needs_background": "light"
     },
     "output_type": "display_data"
    }
   ],
   "source": [
    "#Create a 2D map of xG\n",
    "pgoal_2d=np.zeros((65,65))\n",
    "for x in range(65):\n",
    "    for y in range(65):\n",
    "        sh=dict()\n",
    "        a = np.arctan(7.32 *x /(x**2 + abs(y-65/2)**2 - (7.32/2)**2))\n",
    "        if a<0:\n",
    "            a = np.pi + a\n",
    "        sh['Angle'] = a\n",
    "        sh['Distance'] = np.sqrt(x**2 + abs(y-65/2)**2)\n",
    "        \n",
    "        pgoal_2d[x,y] =  calculate_xG(sh)\n",
    "\n",
    "(fig,ax) = createGoalMouth()\n",
    "pos=ax.imshow(pgoal_2d, extent=[-1,65,65,-1], aspect='auto',cmap=plt.cm.Reds,vmin=0, vmax=0.3)\n",
    "fig.colorbar(pos, ax=ax)\n",
    "ax.set_title('Probability of goal')\n",
    "plt.xlim((0,66))\n",
    "plt.ylim((-3,35))\n",
    "plt.gca().set_aspect('equal', adjustable='box')\n",
    "plt.show()\n",
    "fig.savefig('goalprobfor_' + model  + '.pdf', dpi=None, bbox_inches=\"tight\")   \n",
    "\n"
   ]
  },
  {
   "cell_type": "code",
   "execution_count": null,
   "id": "e4ae1f05",
   "metadata": {},
   "outputs": [],
   "source": []
  }
 ],
 "metadata": {
  "kernelspec": {
   "display_name": "Python [conda env:root] *",
   "language": "python",
   "name": "conda-root-py"
  },
  "language_info": {
   "codemirror_mode": {
    "name": "ipython",
    "version": 3
   },
   "file_extension": ".py",
   "mimetype": "text/x-python",
   "name": "python",
   "nbconvert_exporter": "python",
   "pygments_lexer": "ipython3",
   "version": "3.8.5"
  }
 },
 "nbformat": 4,
 "nbformat_minor": 5
}
